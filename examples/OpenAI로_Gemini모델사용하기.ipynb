{
 "cells": [
  {
   "cell_type": "markdown",
   "id": "a2947740",
   "metadata": {},
   "source": [
    "# OpenAI AsyncClient로 Gemini모델사용하기\n"
   ]
  },
  {
   "cell_type": "code",
   "execution_count": null,
   "id": "9e27698d",
   "metadata": {},
   "outputs": [
    {
     "name": "stdout",
     "output_type": "stream",
     "text": [
      "한국의 수도는 서울입니다.\n",
      "서울은 대한민국의 수도입니다. 즉, 서울은 대한민국의 수도이지 다른 곳의 수도가 아닙니다.\n"
     ]
    }
   ],
   "source": [
    "from openai import AsyncOpenAI\n",
    "from agents import Runner, OpenAIChatCompletionsModel, Agent\n",
    "\n",
    "# Gemini 모델을 사용하려면 base_url을 변경해야 합니다. \n",
    "\n",
    "client = AsyncOpenAI(\n",
    "    api_key=\"Google_API_KEY\", \n",
    "    base_url=\"https://generativelanguage.googleapis.com/v1beta/openai/\"\n",
    "    )\n",
    "\n",
    "agent = Agent(\n",
    "    name=\"Gemini Agent\",\n",
    "    instructions=\"You are a helpful assistant that can answer questions and help with tasks.\",\n",
    "    model=OpenAIChatCompletionsModel(\n",
    "        model=\"gemini-2.0-flash\",\n",
    "        openai_client=client,\n",
    "    )\n",
    ")\n",
    "\n",
    "prompt = \"한국의 수도는 어디야??\"\n",
    "prompt1 = \"서울의 수도는 어디야??\"\n",
    "\n",
    "result_1 = await Runner.run(agent, prompt)\n",
    "print(result_1.final_output)\n",
    "\n",
    "result_2 = await Runner.run(agent, prompt1)\n",
    "print(result_2.final_output)"
   ]
  },
  {
   "cell_type": "code",
   "execution_count": null,
   "id": "ddaf23d1",
   "metadata": {},
   "outputs": [],
   "source": []
  }
 ],
 "metadata": {
  "kernelspec": {
   "display_name": "cookbook",
   "language": "python",
   "name": "cookbook"
  },
  "language_info": {
   "codemirror_mode": {
    "name": "ipython",
    "version": 3
   },
   "file_extension": ".py",
   "mimetype": "text/x-python",
   "name": "python",
   "nbconvert_exporter": "python",
   "pygments_lexer": "ipython3",
   "version": "3.11.12"
  }
 },
 "nbformat": 4,
 "nbformat_minor": 5
}
