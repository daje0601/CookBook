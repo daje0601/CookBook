{
 "cells": [
  {
   "cell_type": "markdown",
   "id": "a2947740",
   "metadata": {},
   "source": [
    "# OpenAI AsyncClient로 Ollama모델사용하기\n",
    "\n",
    "#### 터미널에서 아래 명령어를 별도로 실행합니다. \n",
    "\n",
    "```\n",
    "OLLAMA_HOST=0.0.0.0:11111 ollama serve && OLLAMA_HOST=localhost:11111 ollama run qwen3:0.6b\n",
    "```"
   ]
  },
  {
   "cell_type": "code",
   "execution_count": null,
   "id": "9e27698d",
   "metadata": {},
   "outputs": [
    {
     "name": "stdout",
     "output_type": "stream",
     "text": [
      "<think>\n",
      "Okay, the user just said \"Hello, world!\" so I need to respond appropriately. First, I should acknowledge their input. The response needs to be friendly and maybe include a simple message.\n",
      "\n",
      "I should start with a greeting. Maybe \"Hello!\" and then offer to help them. It's good to be open and invite them to ask more. Also, make sure to end with a goodbye, like \"Goodbye!\" to keep it polite.\n",
      "\n",
      "I should check if there's any specific information needed, but since they just said \"Hello, world!\" the response should be brief. Avoid adding extra details unless they ask. Keep the tone friendly and welcoming.\n",
      "</think>\n",
      "\n",
      "Hello! It's great to see you! How can I assist you today? 😊 Goodbye!\n"
     ]
    }
   ],
   "source": [
    "from openai import AsyncClient\n",
    "\n",
    "# Ollama 모델을 사용하려면 base_url을 변경해야 합니다. \n",
    "# 특히 /v1을  모델 이름 뒤에 꼭! 추가해주셔야 합니다. \n",
    "client = AsyncClient(api_key=\"ollama\", base_url=\"http://0.0.0.0:11111/v1\")\n",
    "response = await client.chat.completions.create(\n",
    "    model=\"qwen3:0.6b\",\n",
    "    messages=[{\"role\": \"user\", \"content\": \"Hello, world!\"}],\n",
    ")\n",
    "print(response.choices[0].message.content)\n",
    "\n"
   ]
  }
 ],
 "metadata": {
  "kernelspec": {
   "display_name": "cookbook",
   "language": "python",
   "name": "cookbook"
  },
  "language_info": {
   "codemirror_mode": {
    "name": "ipython",
    "version": 3
   },
   "file_extension": ".py",
   "mimetype": "text/x-python",
   "name": "python",
   "nbconvert_exporter": "python",
   "pygments_lexer": "ipython3",
   "version": "3.11.12"
  }
 },
 "nbformat": 4,
 "nbformat_minor": 5
}
