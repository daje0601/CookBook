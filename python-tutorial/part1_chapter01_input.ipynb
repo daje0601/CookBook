{
 "cells": [
  {
   "cell_type": "markdown",
   "metadata": {},
   "source": [
    "# Chapter 1: input() - 내가 컴퓨터에게 말하기\n",
    "\n",
    "## 🎯 이번 챕터의 목표\n",
    "- 키보드로 데이터를 입력받는 방법 배우기\n",
    "- input() 함수 사용법 익히기\n",
    "- 입력받은 데이터를 저장하기\n",
    "\n",
    "---\n",
    "\n",
    "## 🤔 왜 input()이 필요할까?\n",
    "\n",
    "프로그램은 사용자와 **대화**해야 합니다.\n",
    "- 게임: \"캐릭터 이름을 입력하세요\"\n",
    "- 계산기: \"첫 번째 숫자를 입력하세요\"\n",
    "- 로그인: \"아이디를 입력하세요\"\n",
    "\n",
    "이 모든 것이 `input()`으로 시작됩니다!\n",
    "\n",
    "---"
   ]
  },
  {
   "cell_type": "markdown",
   "metadata": {},
   "source": [
    "## 1️⃣ 첫 번째 input() 사용하기\n",
    "\n",
    "가장 간단한 형태부터 시작해봅시다:"
   ]
  },
  {
   "cell_type": "code",
   "execution_count": null,
   "metadata": {},
   "outputs": [],
   "source": [
    "# 🎮 실습: 첫 input 사용하기\n",
    "input()"
   ]
  },
  {
   "cell_type": "markdown",
   "metadata": {},
   "source": [
    "실행하면:\n",
    "1. 입력 대기 상태가 됩니다\n",
    "2. 뭔가 타이핑하고 Enter를 누르면\n",
    "3. 입력한 내용이 화면에 나타납니다\n",
    "\n",
    "하지만... 입력한 내용이 사라져버렸네요? 🤔"
   ]
  },
  {
   "cell_type": "markdown",
   "metadata": {},
   "source": [
    "## 2️⃣ 안내 메시지와 함께 사용하기\n",
    "\n",
    "사용자가 무엇을 입력해야 할지 알려주면 좋겠죠?"
   ]
  },
  {
   "cell_type": "code",
   "execution_count": null,
   "metadata": {},
   "outputs": [],
   "source": [
    "# 🎮 실습: 안내 메시지 추가하기\n",
    "input(\"당신의 이름은? \")"
   ]
  },
  {
   "cell_type": "markdown",
   "metadata": {},
   "source": [
    "이제 사용자가 무엇을 입력해야 할지 알 수 있어요!\n",
    "\n",
    "💡 **팁**: 안내 메시지 끝에 공백을 넣으면 커서가 떨어져서 보기 좋아요.\n",
    "- `input(\"이름:\")` → 이름:철수\n",
    "- `input(\"이름: \")` → 이름: 철수"
   ]
  },
  {
   "cell_type": "markdown",
   "metadata": {},
   "source": [
    "## 3️⃣ 입력받은 값 저장하기 ⭐\n",
    "\n",
    "입력받은 값을 나중에 사용하려면 **변수에 저장**해야 합니다!"
   ]
  },
  {
   "cell_type": "code",
   "execution_count": null,
   "metadata": {},
   "outputs": [],
   "source": [
    "# 🎮 실습: 변수에 저장하기\n",
    "name = input(\"이름을 입력하세요: \")\n",
    "\n",
    "# 이제 name 변수를 계속 사용할 수 있어요!\n",
    "print(\"입력한 이름:\", name)\n",
    "print(name, \"님 환영합니다!\")"
   ]
  },
  {
   "cell_type": "code",
   "execution_count": null,
   "metadata": {},
   "outputs": [],
   "source": [
    "# 🎮 실습: 여러 정보 입력받기\n",
    "print(\"=== 회원가입 ===\")\n",
    "user_id = input(\"아이디: \")\n",
    "password = input(\"비밀번호: \")\n",
    "email = input(\"이메일: \")\n",
    "\n",
    "print(\"\\n=== 입력 확인 ===\")\n",
    "print(\"아이디:\", user_id)\n",
    "print(\"비밀번호:\", \"*\" * len(password))  # 비밀번호는 *로 표시\n",
    "print(\"이메일:\", email)"
   ]
  },
  {
   "cell_type": "markdown",
   "metadata": {},
   "source": [
    "## 4️⃣ input()의 중요한 특징 ⚠️\n",
    "\n",
    "**input()은 항상 문자열(str)로 받습니다!**\n",
    "\n",
    "이게 왜 중요한지는 다음 예제를 보면 알 수 있어요:"
   ]
  },
  {
   "cell_type": "code",
   "execution_count": null,
   "metadata": {},
   "outputs": [],
   "source": [
    "# 🎮 실습: input()은 항상 문자열!\n",
    "age = input(\"나이를 입력하세요: \")  # 25를 입력한다고 가정\n",
    "\n",
    "print(\"입력한 나이:\", age)\n",
    "print(\"타입 확인:\", type(age))  # <class 'str'> - 문자열이네요!\n",
    "\n",
    "# 문제 발생!\n",
    "# next_year_age = age + 1  # 에러! 문자열에 숫자를 더할 수 없어요"
   ]
  },
  {
   "cell_type": "markdown",
   "metadata": {},
   "source": [
    "그렇다면, input을 숫자로 받고 싶을 때는 어떻게 해야할까요?   \n",
    "**→ 위에서 발생한 문제와 숫자로 받고 싶을 때 해결하는 방법은 Chapter 6(형변환)에서 해결할 거예요!**"
   ]
  },
  {
   "cell_type": "markdown",
   "metadata": {},
   "source": [
    "## 5️⃣ 실전 예제: 간단한 프로필 만들기"
   ]
  },
  {
   "cell_type": "code",
   "execution_count": null,
   "metadata": {},
   "outputs": [],
   "source": [
    "# 🎮 실습: 프로필 만들기\n",
    "print(\"📝 프로필 작성하기\")\n",
    "print(\"=\" * 30)\n",
    "\n",
    "name = input(\"이름: \")\n",
    "age = input(\"나이: \")\n",
    "city = input(\"사는 도시: \")\n",
    "hobby = input(\"취미: \")\n",
    "food = input(\"좋아하는 음식: \")\n",
    "\n",
    "print(\"\\n\" + \"=\" * 30)\n",
    "print(\"📋 작성된 프로필\")\n",
    "print(\"=\" * 30)\n",
    "print(f\"이름: {name}\")\n",
    "print(f\"나이: {age}살\")\n",
    "print(f\"거주지: {city}\")\n",
    "print(f\"취미: {hobby}\")\n",
    "print(f\"좋아하는 음식: {food}\")\n",
    "print(\"=\" * 30)"
   ]
  },
  {
   "cell_type": "markdown",
   "metadata": {},
   "source": [
    "## 🎯 이번 챕터 정리\n",
    "\n",
    "### ✅ 배운 내용\n",
    "1. `input()` - 사용자로부터 입력받기\n",
    "2. `input(\"메시지\")` - 안내 메시지와 함께 입력받기\n",
    "3. `변수 = input()` - 입력값을 변수에 저장하기\n",
    "4. input()은 **항상 문자열**로 받는다는 중요한 사실!\n",
    "\n",
    "### 🤔 생각해보기\n",
    "- 입력받은 값을 화면에 보여주려면 어떻게 해야 할까?\n",
    "- 숫자를 입력받아서 계산하려면?\n",
    "\n",
    "### ➡️ 다음 챕터에서는...\n",
    "입력받은 값을 화면에 출력하는 `print()` 함수를 배워봅시다!"
   ]
  },
  {
   "cell_type": "markdown",
   "metadata": {},
   "source": [
    "## 💪 연습 문제\n",
    "\n",
    "### 문제 1: 자기소개 입력받기\n",
    "이름, 나이, 학교/직장을 입력받아 변수에 저장하세요."
   ]
  },
  {
   "cell_type": "code",
   "execution_count": null,
   "metadata": {},
   "outputs": [],
   "source": [
    "# 여기에 코드를 작성하세요 "
   ]
  },
  {
   "cell_type": "markdown",
   "metadata": {},
   "source": [
    "### 문제 2: 주문 받기\n",
    "카페 주문을 받는 프로그램을 만들어보세요.\n",
    "(음료 종류, 사이즈, 추가 옵션을 입력받기)"
   ]
  },
  {
   "cell_type": "code",
   "execution_count": null,
   "metadata": {},
   "outputs": [],
   "source": [
    "# 여기에 코드를 작성하세요 "
   ]
  },
  {
   "cell_type": "markdown",
   "metadata": {},
   "source": [
    "## 정답 예시"
   ]
  },
  {
   "cell_type": "markdown",
   "metadata": {},
   "source": [
    "### 문제 1: 자기소개 입력받기"
   ]
  },
  {
   "cell_type": "code",
   "execution_count": null,
   "metadata": {},
   "outputs": [],
   "source": [
    "# 💡 답안 예시:\n",
    "print(\"📝 자기소개하기\")\n",
    "print(\"=\" * 30)\n",
    "\n",
    "name = input(\"이름을 입력하세요: \")\n",
    "age = input(\"나이를 입력하세요: \")\n",
    "workplace = input(\"학교/직장을 입력하세요: \")\n",
    "\n",
    "print(\"\\n\" + \"=\" * 30)\n",
    "print(\"✅ 입력 완료!\")\n",
    "print(\"=\" * 30)\n",
    "print(f\"이름: {name}\")\n",
    "print(f\"나이: {age}\")\n",
    "print(f\"소속: {workplace}\")\n",
    "print(\"=\" * 30)"
   ]
  },
  {
   "cell_type": "markdown",
   "metadata": {},
   "source": [
    "### 문제 2: 주문 받기"
   ]
  },
  {
   "cell_type": "code",
   "execution_count": null,
   "metadata": {},
   "outputs": [],
   "source": [
    "# 💡 답안 예시:\n",
    "print(\"☕ 카페 주문 시스템\")\n",
    "print(\"=\" * 40)\n",
    "\n",
    "drink = input(\"음료 종류 (아메리카노, 라떼, 프라푸치노): \")\n",
    "size = input(\"사이즈 (Small, Medium, Large): \")\n",
    "extra = input(\"추가 옵션 (샷추가, 시럽추가, 휘핑크림): \")\n",
    "customer_name = input(\"주문하실 분 성함: \")\n",
    "\n",
    "print(\"\\n\" + \"=\" * 40)\n",
    "print(\"📋 주문 확인\")\n",
    "print(\"=\" * 40)\n",
    "print(f\"음료: {drink}\")\n",
    "print(f\"사이즈: {size}\")\n",
    "print(f\"추가옵션: {extra}\")\n",
    "print(f\"주문자: {customer_name}\")\n",
    "print(\"=\" * 40)\n",
    "print(\"✅ 주문이 완료되었습니다!\")\n",
    "print(\"잠시만 기다려 주세요~\")"
   ]
  }
 ],
 "metadata": {
  "kernelspec": {
   "display_name": "Python 3",
   "language": "python",
   "name": "python3"
  },
  "language_info": {
   "codemirror_mode": {
    "name": "ipython",
    "version": 3
   },
   "file_extension": ".py",
   "mimetype": "text/x-python",
   "name": "python",
   "nbconvert_exporter": "python",
   "pygments_lexer": "ipython3",
   "version": "3.8.0"
  }
 },
 "nbformat": 4,
 "nbformat_minor": 4
}
