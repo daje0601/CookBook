{
 "cells": [
  {
   "cell_type": "markdown",
   "metadata": {},
   "source": [
    "# Chapter 2: print() - 컴퓨터가 나에게 말하기\n",
    "\n",
    "## 🎯 이번 챕터의 목표\n",
    "- 화면에 출력하는 방법 배우기\n",
    "- print() 함수의 다양한 활용법 익히기\n",
    "- 여러 값을 함께 출력하기\n",
    "\n",
    "---\n",
    "\n",
    "## 🤔 왜 print()가 필요할까?\n",
    "\n",
    "Chapter 1에서 input()으로 값을 받았는데...\n",
    "- 받은 값을 확인하려면?\n",
    "- 계산 결과를 보여주려면?\n",
    "- 프로그램의 진행 상황을 알려주려면?\n",
    "\n",
    "**print()가 없으면 프로그램이 뭘 하는지 알 수가 없어요!**\n",
    "\n",
    "---"
   ]
  },
  {
   "cell_type": "markdown",
   "metadata": {},
   "source": [
    "## 1️⃣ 첫 번째 print() 사용하기"
   ]
  },
  {
   "cell_type": "code",
   "execution_count": null,
   "metadata": {},
   "outputs": [],
   "source": [
    "# 🎮 실습: 가장 간단한 출력\n",
    "print(\"Hello, Python!\")\n",
    "print('안녕하세요!')  # 작은따옴표도 OK\n",
    "print(12345)  # 숫자도 출력 가능\n",
    "print(3.14)   # 실수도 가능"
   ]
  },
  {
   "cell_type": "markdown",
   "metadata": {},
   "source": [
    "## 2️⃣ 여러 값을 함께 출력하기"
   ]
  },
  {
   "cell_type": "code",
   "execution_count": null,
   "metadata": {},
   "outputs": [],
   "source": [
    "# 🎮 실습: 여러 값을 한 줄에 출력\n",
    "name = \"철수\"\n",
    "age = 25\n",
    "\n",
    "# 쉼표로 구분하여 출력\n",
    "print(\"이름:\", name)\n",
    "print(\"나이:\", age, \"살\")\n",
    "print(name, \"는\", age, \"살입니다\")"
   ]
  },
  {
   "cell_type": "code",
   "execution_count": 1,
   "metadata": {},
   "outputs": [
    {
     "name": "stdout",
     "output_type": "stream",
     "text": [
      "파이썬 프로그래밍 재미있다\n"
     ]
    }
   ],
   "source": [
    "# 🎮 실습: 자동 공백 추가\n",
    "print(\"파이썬\", \"프로그래밍\", \"재미있다\")\n",
    "# 출력: 파이썬 프로그래밍 재미있다 (자동으로 공백이 들어감!)"
   ]
  },
  {
   "cell_type": "markdown",
   "metadata": {},
   "source": [
    "## 3️⃣ 문자열 포맷팅 - 더 깔끔한 출력"
   ]
  },
  {
   "cell_type": "code",
   "execution_count": null,
   "metadata": {},
   "outputs": [],
   "source": [
    "# 🎮 실습: f-string (가장 추천!)\n",
    "name = \"영희\"\n",
    "score = 95\n",
    "\n",
    "# f-string 사용\n",
    "print(f\"{name}의 점수는 {score}점입니다\")\n",
    "print(f\"{name}님, 축하합니다! {score}점 획득!\")\n",
    "\n",
    "# 계산도 가능\n",
    "print(f\"100점 만점에 {score}점이면 {score/100*100:.1f}%입니다\")"
   ]
  },
  {
   "cell_type": "code",
   "execution_count": null,
   "metadata": {},
   "outputs": [],
   "source": [
    "# 🎮 실습: 문자열 더하기 vs f-string\n",
    "fruit = \"사과\"\n",
    "count = 3\n",
    "\n",
    "# 방법 1: 더하기 (복잡하고 타입 에러 위험)\n",
    "# print(fruit + \"가 \" + count + \"개 있습니다\")  # 에러! count는 숫자\n",
    "print(fruit + \"가 \" + str(count) + \"개 있습니다\")  # str()로 변환 필요\n",
    "\n",
    "# 방법 2: 쉼표 (자동 공백)\n",
    "print(fruit, \"가\", count, \"개 있습니다\")\n",
    "\n",
    "# 방법 3: f-string (가장 깔끔!)\n",
    "print(f\"{fruit}가 {count}개 있습니다\")"
   ]
  },
  {
   "cell_type": "markdown",
   "metadata": {},
   "source": [
    "## 4️⃣ print()의 특별한 옵션들"
   ]
  },
  {
   "cell_type": "code",
   "execution_count": null,
   "metadata": {},
   "outputs": [],
   "source": [
    "# 🎮 실습: 줄바꿈 제어 (end 파라미터)\n",
    "print(\"첫 번째\", end=\"\")\n",
    "print(\"두 번째\", end=\"\")\n",
    "print(\"세 번째\")  # 한 줄에 출력됨\n",
    "\n",
    "print()  # 빈 줄\n",
    "\n",
    "# 다른 문자로 끝내기\n",
    "print(\"로딩중\", end=\"...\")\n",
    "print(\"완료!\")"
   ]
  },
  {
   "cell_type": "code",
   "execution_count": null,
   "metadata": {},
   "outputs": [],
   "source": [
    "# 🎮 실습: 구분자 변경 (sep 파라미터)\n",
    "print(\"2024\", \"12\", \"25\", sep=\"-\")  # 2024-12-25\n",
    "print(\"010\", \"1234\", \"5678\", sep=\"-\")  # 010-1234-5678\n",
    "print(\"사과\", \"바나나\", \"오렌지\", sep=\" / \")  # 사과 / 바나나 / 오렌지"
   ]
  },
  {
   "cell_type": "markdown",
   "metadata": {},
   "source": [
    "## 5️⃣ 특수 문자 출력하기"
   ]
  },
  {
   "cell_type": "code",
   "execution_count": null,
   "metadata": {},
   "outputs": [],
   "source": [
    "# 🎮 실습: 이스케이프 문자\n",
    "print(\"안녕\\n하세요\")  # \\n: 줄바꿈\n",
    "print(\"이름\\t나이\\t점수\")  # \\t: 탭\n",
    "print(\"철수\\t25\\t90\")\n",
    "print(\"영희\\t23\\t95\")\n",
    "\n",
    "print(\"\\n\" + \"=\"*30)  # 구분선 만들기\n",
    "print(\"He said \\\"Hello!\\\"\")"
   ]
  },
  {
   "cell_type": "markdown",
   "metadata": {},
   "source": [
    "## 6️⃣ 실전 예제: input()과 print() 함께 사용하기"
   ]
  },
  {
   "cell_type": "code",
   "execution_count": null,
   "metadata": {},
   "outputs": [],
   "source": [
    "# 🎮 실습: 대화형 프로그램\n",
    "print(\"=\"*40)\n",
    "print(\"🤖 AI 비서 프로그램\")\n",
    "print(\"=\"*40)\n",
    "\n",
    "name = input(\"당신의 이름은? \")\n",
    "age = input(\"나이는? \")\n",
    "hobby = input(\"취미는? \")\n",
    "\n",
    "print(\"\\n\" + \"=\"*40)\n",
    "print(\"📋 입력 정보 확인\")\n",
    "print(\"=\"*40)\n",
    "print(f\"이름: {name}\")\n",
    "print(f\"나이: {age}살\")\n",
    "print(f\"취미: {hobby}\")\n",
    "print(\"=\"*40)\n",
    "\n",
    "print(f\"\\n{name}님, 만나서 반갑습니다!\")\n",
    "print(f\"{age}살이시고 {hobby}를 좋아하시는군요!\")"
   ]
  },
  {
   "cell_type": "markdown",
   "metadata": {},
   "source": [
    "## 7️⃣ Quiz 문제로 실력 테스트"
   ]
  },
  {
   "cell_type": "code",
   "execution_count": null,
   "metadata": {},
   "outputs": [],
   "source": [
    "# 🧩 Quiz (Quiz.md #19번 변형)\n",
    "# 다음 코드의 출력 결과를 예측해보세요\n",
    "text = 'Python'\n",
    "print(*text, sep='o', end='!')\n",
    "\n",
    "# 정답을 예측한 후 실행해보세요!\n",
    "# 힌트: *text는 문자열을 하나씩 풀어서 전달합니다"
   ]
  },
  {
   "cell_type": "code",
   "execution_count": null,
   "metadata": {},
   "outputs": [],
   "source": "# 💡 답안 예시:\nwords = [\"Python\", \"is\", \"fun!\"]\n\nfor word in words:\n    print(f\"***{word}***\")\n\n# 또는 더 간단하게:\n# print(\"***Python***\")\n# print(\"***is***\")\n# print(\"***fun!***\")"
  },
  {
   "cell_type": "markdown",
   "metadata": {},
   "source": [
    "## 🎯 이번 챕터 정리\n",
    "\n",
    "### ✅ 배운 내용\n",
    "1. `print()` - 화면에 출력하기\n",
    "2. 여러 값 출력 - 쉼표로 구분\n",
    "3. `f\"{변수}\"` - f-string으로 깔끔한 출력\n",
    "4. `end`, `sep` - 출력 형식 조절\n",
    "5. `\\n`, `\\t` - 특수 문자 출력\n",
    "\n",
    "### 💡 핵심 포인트\n",
    "- print()는 프로그램의 **유일한 출력 창구**\n",
    "- f-string을 사용하면 코드가 **깔끔**해집니다\n",
    "- input()과 print()를 조합하면 **대화형 프로그램** 완성!\n",
    "\n",
    "### ➡️ 다음 챕터에서는...\n",
    "사용자용 메시지와 개발자용 메시지를 구분하는 `logging`을 배워봅시다!"
   ]
  },
  {
   "cell_type": "markdown",
   "metadata": {},
   "source": [
    "## 💪 연습 문제\n",
    "\n",
    "### 문제 1: 영수증 출력하기\n",
    "상품명, 가격, 수량을 입력받아 영수증 형태로 출력하세요."
   ]
  },
  {
   "cell_type": "code",
   "execution_count": null,
   "metadata": {},
   "outputs": [],
   "source": "# 💡 답안 예시:\nprint(\"🛒 상품 주문하기\")\nprint(\"=\" * 30)\n\nproduct = input(\"상품명: \")\nprice = int(input(\"가격: \"))\nquantity = int(input(\"수량: \"))\n\ntotal = price * quantity\n\nprint(\"\\n\" + \"=\" * 10 + \" 영수증 \" + \"=\" * 10)\nprint(f\"상품명: {product}\")\nprint(f\"가격: {price:,}원\")\nprint(f\"수량: {quantity}개\")\nprint(\"-\" * 28)\nprint(f\"총액: {total:,}원\")\nprint(\"=\" * 28)\nprint(\"🙏 이용해 주셔서 감사합니다!\")\n\n# 추가: 할인 적용 예시\nif total >= 10000:\n    discount = total * 0.1\n    final_price = total - discount\n    print(f\"\\n🎉 만원 이상 구매시 10% 할인!\")\n    print(f\"할인액: {discount:,.0f}원\")\n    print(f\"최종 금액: {final_price:,.0f}원\")"
  }
 ],
 "metadata": {
  "kernelspec": {
   "display_name": "base",
   "language": "python",
   "name": "python3"
  },
  "language_info": {
   "codemirror_mode": {
    "name": "ipython",
    "version": 3
   },
   "file_extension": ".py",
   "mimetype": "text/x-python",
   "name": "python",
   "nbconvert_exporter": "python",
   "pygments_lexer": "ipython3",
   "version": "3.11.5"
  }
 },
 "nbformat": 4,
 "nbformat_minor": 4
}