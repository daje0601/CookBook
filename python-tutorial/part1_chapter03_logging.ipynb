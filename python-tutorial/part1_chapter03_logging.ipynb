{
 "cells": [
  {
   "cell_type": "markdown",
   "metadata": {},
   "source": [
    "# Chapter 3: logging - 개발자를 위한 비밀 메모\n",
    "\n",
    "## 🎯 이번 챕터의 목표\n",
    "- print()와 logging의 차이 이해하기\n",
    "- 디버깅을 위한 정보 기록하기\n",
    "- 로그 레벨 활용하기\n",
    "\n",
    "---\n",
    "\n",
    "## 🤔 왜 logging이 필요할까?\n",
    "\n",
    "print()로 충분하지 않나요? 🤷\n",
    "\n",
    "상황을 생각해보세요:\n",
    "- **사용자**: \"로그인 성공!\" ← 이것만 보면 됨\n",
    "- **개발자**: \"2024-01-15 15:30:45 - User ID: 12345, IP: 192.168.1.1, Login attempt...\" ← 디버깅 정보 필요\n",
    "\n",
    "**print() = 사용자를 위한 메시지**  \n",
    "**logging = 개발자를 위한 기록**\n",
    "\n",
    "---"
   ]
  },
  {
   "cell_type": "markdown",
   "metadata": {},
   "source": [
    "## 1️⃣ logging 시작하기"
   ]
  },
  {
   "cell_type": "code",
   "execution_count": null,
   "metadata": {},
   "outputs": [],
   "source": [
    "# 🎮 실습: 첫 번째 로깅\n",
    "import logging\n",
    "\n",
    "# 기본 설정\n",
    "logging.basicConfig(level=logging.INFO)\n",
    "\n",
    "# 로그 메시지 출력\n",
    "logging.info(\"프로그램이 시작되었습니다\")\n",
    "print(\"안녕하세요! 프로그램을 시작합니다.\")  # 사용자용\n",
    "\n",
    "logging.info(\"사용자 입력 대기 중...\")\n",
    "name = input(\"이름을 입력하세요: \")\n",
    "\n",
    "logging.info(f\"입력받은 이름: {name}\")\n",
    "print(f\"반갑습니다, {name}님!\")  # 사용자용"
   ]
  },
  {
   "cell_type": "markdown",
   "metadata": {},
   "source": [
    "## 2️⃣ 로그 레벨 이해하기\n",
    "\n",
    "로그에도 **중요도**가 있습니다!"
   ]
  },
  {
   "cell_type": "code",
   "execution_count": null,
   "metadata": {},
   "outputs": [],
   "source": [
    "# 🎮 실습: 5가지 로그 레벨\n",
    "import logging\n",
    "logging.basicConfig(level=logging.DEBUG, format='%(levelname)s: %(message)s')\n",
    "\n",
    "# 레벨별 메시지\n",
    "logging.debug(\"상세한 디버깅 정보\")      # 🔍 개발 중 확인\n",
    "logging.info(\"일반적인 정보\")           # ℹ️ 정상 동작 확인\n",
    "logging.warning(\"경고! 주의가 필요함\")   # ⚠️ 문제 가능성\n",
    "logging.error(\"에러 발생!\")            # ❌ 문제 발생\n",
    "logging.critical(\"심각한 문제!\")       # 🚨 프로그램 중단 위험"
   ]
  },
  {
   "cell_type": "code",
   "execution_count": null,
   "metadata": {},
   "outputs": [],
   "source": [
    "# 🎮 실습: 레벨 설정으로 필터링\n",
    "import logging\n",
    "\n",
    "# WARNING 이상만 출력\n",
    "logging.basicConfig(level=logging.WARNING, format='%(levelname)s: %(message)s')\n",
    "\n",
    "logging.debug(\"이건 안 보임\")     # 출력 X\n",
    "logging.info(\"이것도 안 보임\")    # 출력 X\n",
    "logging.warning(\"이건 보임!\")     # 출력 O\n",
    "logging.error(\"이것도 보임!\")     # 출력 O"
   ]
  },
  {
   "cell_type": "markdown",
   "metadata": {},
   "source": [
    "## 3️⃣ 로그 포맷 커스터마이징"
   ]
  },
  {
   "cell_type": "code",
   "execution_count": null,
   "metadata": {},
   "outputs": [],
   "source": [
    "# 🎮 실습: 시간과 함께 기록하기\n",
    "import logging\n",
    "from datetime import datetime\n",
    "\n",
    "# 포맷 설정\n",
    "logging.basicConfig(\n",
    "    level=logging.INFO,\n",
    "    format='[%(asctime)s] %(levelname)s: %(message)s',\n",
    "    datefmt='%H:%M:%S'\n",
    ")\n",
    "\n",
    "logging.info(\"프로그램 시작\")\n",
    "user_input = input(\"숫자를 입력하세요: \")\n",
    "logging.info(f\"사용자 입력: {user_input}\")\n",
    "\n",
    "try:\n",
    "    number = int(user_input)\n",
    "    logging.info(f\"변환 성공: {number}\")\n",
    "    print(f\"입력한 숫자: {number}\")\n",
    "except ValueError:\n",
    "    logging.error(f\"변환 실패: '{user_input}'는 숫자가 아님\")\n",
    "    print(\"올바른 숫자를 입력해주세요!\")"
   ]
  },
  {
   "cell_type": "markdown",
   "metadata": {},
   "source": [
    "## 4️⃣ 실전 예제: 계산기 프로그램"
   ]
  },
  {
   "cell_type": "code",
   "execution_count": null,
   "metadata": {},
   "outputs": [],
   "source": [
    "# 🎮 실습: print와 logging 구분 사용\n",
    "import logging\n",
    "\n",
    "logging.basicConfig(\n",
    "    level=logging.DEBUG,\n",
    "    format='🔍 [%(levelname)s] %(message)s'\n",
    ")\n",
    "\n",
    "def calculator():\n",
    "    print(\"=\" * 30)\n",
    "    print(\"🧮 간단한 계산기\")\n",
    "    print(\"=\" * 30)\n",
    "    \n",
    "    logging.info(\"계산기 프로그램 시작\")\n",
    "    \n",
    "    # 숫자 입력\n",
    "    num1_str = input(\"첫 번째 숫자: \")\n",
    "    logging.debug(f\"첫 번째 입력값: '{num1_str}', 타입: {type(num1_str)}\")\n",
    "    \n",
    "    num2_str = input(\"두 번째 숫자: \")\n",
    "    logging.debug(f\"두 번째 입력값: '{num2_str}', 타입: {type(num2_str)}\")\n",
    "    \n",
    "    # 연산자 입력\n",
    "    operator = input(\"연산자 (+, -, *, /): \")\n",
    "    logging.info(f\"선택된 연산자: {operator}\")\n",
    "    \n",
    "    try:\n",
    "        num1 = float(num1_str)\n",
    "        num2 = float(num2_str)\n",
    "        logging.debug(f\"형변환 성공: {num1}, {num2}\")\n",
    "        \n",
    "        if operator == '+':\n",
    "            result = num1 + num2\n",
    "        elif operator == '-':\n",
    "            result = num1 - num2\n",
    "        elif operator == '*':\n",
    "            result = num1 * num2\n",
    "        elif operator == '/':\n",
    "            if num2 == 0:\n",
    "                logging.error(\"0으로 나누기 시도!\")\n",
    "                print(\"❌ 0으로 나눌 수 없습니다!\")\n",
    "                return\n",
    "            result = num1 / num2\n",
    "        else:\n",
    "            logging.warning(f\"알 수 없는 연산자: {operator}\")\n",
    "            print(\"❌ 올바른 연산자를 입력하세요!\")\n",
    "            return\n",
    "        \n",
    "        logging.info(f\"계산 성공: {num1} {operator} {num2} = {result}\")\n",
    "        print(f\"\\n📊 결과: {num1} {operator} {num2} = {result}\")\n",
    "        \n",
    "    except ValueError as e:\n",
    "        logging.error(f\"형변환 실패: {e}\")\n",
    "        print(\"❌ 올바른 숫자를 입력하세요!\")\n",
    "\n",
    "# 실행\n",
    "calculator()"
   ]
  },
  {
   "cell_type": "markdown",
   "metadata": {},
   "source": [
    "## 5️⃣ 로그를 파일로 저장하기"
   ]
  },
  {
   "cell_type": "code",
   "execution_count": null,
   "metadata": {},
   "outputs": [],
   "source": [
    "# 🎮 실습: 로그 파일 생성\n",
    "import logging\n",
    "\n",
    "# 파일로 저장 설정\n",
    "logging.basicConfig(\n",
    "    filename='program.log',  # 로그 파일명\n",
    "    level=logging.INFO,\n",
    "    format='[%(asctime)s] %(levelname)s: %(message)s',\n",
    "    datefmt='%Y-%m-%d %H:%M:%S'\n",
    ")\n",
    "\n",
    "logging.info(\"프로그램 시작\")\n",
    "print(\"프로그램이 시작되었습니다!\")\n",
    "\n",
    "name = input(\"이름: \")\n",
    "logging.info(f\"사용자 이름: {name}\")\n",
    "\n",
    "age = input(\"나이: \")\n",
    "logging.info(f\"사용자 나이: {age}\")\n",
    "\n",
    "print(f\"\\n{name}님({age}세) 환영합니다!\")\n",
    "logging.info(\"프로그램 종료\")\n",
    "\n",
    "print(\"\\n💾 로그가 'program.log' 파일에 저장되었습니다!\")"
   ]
  },
  {
   "cell_type": "markdown",
   "metadata": {},
   "source": "## 6️⃣ print vs logging 상세 비교\n\n### 🔍 왜 print만 쓰면 안 될까?\n\n**print()의 한계:**\n- ❌ 프로그램이 끝나면 내용이 사라짐\n- ❌ 중요도 구분이 안됨 (모든 메시지가 동일)\n- ❌ 실제 서비스에서는 사용자에게 모든 메시지가 보임\n- ❌ 나중에 특정 메시지만 찾기 어려움\n\n**logging의 장점:**\n- ✅ 파일로 영구 저장 가능\n- ✅ 5단계 레벨로 중요도 구분\n- ✅ 개발 중에만 보고, 사용자에게는 숨김 가능  \n- ✅ 시간, 파일명, 라인 번호 자동 기록\n- ✅ 나중에 문제 발생 시 디버깅에 필수!"
  },
  {
   "cell_type": "code",
   "execution_count": null,
   "metadata": {},
   "outputs": [],
   "source": "# 🎮 실습: print vs logging 실제 사용 예시\n\nimport logging\nlogging.basicConfig(level=logging.DEBUG, format='%(levelname)s: %(message)s')\n\n# 🎯 상황: 웹사이트 로그인 시스템\nusername = \"user123\"\npassword = \"correct_password\"\nuser_ip = \"192.168.1.100\"\n\nprint(\"로그인 페이지에 오신 것을 환영합니다!\")  # ✅ 사용자가 봐야 할 메시지\n\n# 로그인 처리 시작 (개발자용 정보)\nlogging.info(f\"로그인 시도 - 사용자: {username}, IP: {user_ip}\")\nlogging.debug(f\"입력된 비밀번호 길이: {len(password)}자\")\n\nif username == \"user123\" and password == \"correct_password\":\n    logging.info(f\"로그인 성공 - {username}\")\n    print(\"로그인에 성공했습니다! 환영합니다.\")  # ✅ 사용자가 봐야 할 메시지\nelse:\n    logging.warning(f\"로그인 실패 - 잘못된 사용자: {username}, IP: {user_ip}\")\n    print(\"로그인에 실패했습니다. 다시 시도해주세요.\")  # ✅ 사용자가 봐야 할 메시지\n\nlogging.debug(\"로그인 처리 완료\")\n\nprint(\"\\n\" + \"=\"*50)\nprint(\"🎯 정리: 사용자는 안내 메시지만 보고,\")\nprint(\"     개발자는 로그에서 상세 정보 확인!\")"
  },
  {
   "cell_type": "markdown",
   "metadata": {},
   "source": [
    "## 🎯 이번 챕터 정리\n",
    "\n",
    "### ✅ 배운 내용\n",
    "1. **logging** - 개발자를 위한 정보 기록\n",
    "2. **5가지 로그 레벨** - DEBUG, INFO, WARNING, ERROR, CRITICAL\n",
    "3. **로그 포맷** - 시간, 레벨, 메시지 포함\n",
    "4. **파일 저장** - 로그를 파일로 영구 보관\n",
    "\n",
    "### 💡 핵심 포인트\n",
    "- **print()** = 사용자가 봐야 할 정보\n",
    "- **logging** = 개발자가 봐야 할 정보\n",
    "- 로그 레벨로 중요도 구분\n",
    "- 나중에 디버깅할 때 매우 유용!\n",
    "\n",
    "### ➡️ 다음 챕터에서는...\n",
    "지금까지 input()으로 받은 \"10\"이 왜 숫자가 아닌지,  \n",
    "컴퓨터가 데이터를 구분하는 **자료형(Type)**을 배워봅시다!"
   ]
  },
  {
   "cell_type": "markdown",
   "metadata": {},
   "source": [
    "## 💪 연습 문제\n",
    "\n",
    "### 문제: 로그인 시스템\n",
    "아이디와 비밀번호를 입력받는 로그인 시스템을 만들되,\n",
    "- 사용자에게는 성공/실패만 보여주고\n",
    "- 로그에는 상세 정보를 기록하세요"
   ]
  },
  {
   "cell_type": "code",
   "execution_count": null,
   "metadata": {},
   "outputs": [],
   "source": "# 💡 답안 예시:\nimport logging\n\n# 로그 설정\nlogging.basicConfig(\n    level=logging.INFO,\n    format='[%(asctime)s] %(levelname)s: %(message)s',\n    datefmt='%Y-%m-%d %H:%M:%S'\n)\n\n# 올바른 계정 정보 (실제로는 데이터베이스에 있어야 함)\ncorrect_id = \"admin\"\ncorrect_password = \"1234\"\n\nprint(\"🔐 로그인 시스템\")\nprint(\"=\" * 30)\n\nattempt_count = 0\n\nwhile attempt_count < 3:  # 최대 3번 시도\n    attempt_count += 1\n    logging.info(f\"로그인 시도 #{attempt_count}\")\n    \n    user_id = input(\"아이디: \")\n    user_password = input(\"비밀번호: \")\n    \n    logging.debug(f\"입력된 아이디: '{user_id}', 비밀번호 길이: {len(user_password)}자\")\n    \n    if user_id == correct_id and user_password == correct_password:\n        logging.info(f\"로그인 성공 - 사용자: {user_id}\")\n        print(\"✅ 로그인 성공!\")\n        break\n    else:\n        logging.warning(f\"로그인 실패 - 아이디: '{user_id}', 시도 횟수: {attempt_count}\")\n        print(\"❌ 로그인 실패!\")\n        \n        if attempt_count < 3:\n            print(f\"남은 시도 횟수: {3 - attempt_count}번\")\nelse:\n    logging.error(f\"계정 잠김 - 연속 실패: {attempt_count}회\")\n    print(\"🚫 계정이 잠겼습니다. 관리자에게 문의하세요.\")\n\nlogging.info(\"로그인 시스템 종료\")"
  }
 ],
 "metadata": {
  "kernelspec": {
   "display_name": "Python 3",
   "language": "python",
   "name": "python3"
  },
  "language_info": {
   "codemirror_mode": {
    "name": "ipython",
    "version": 3
   },
   "file_extension": ".py",
   "mimetype": "text/x-python",
   "name": "python",
   "nbconvert_exporter": "python",
   "pygments_lexer": "ipython3",
   "version": "3.8.0"
  }
 },
 "nbformat": 4,
 "nbformat_minor": 4
}