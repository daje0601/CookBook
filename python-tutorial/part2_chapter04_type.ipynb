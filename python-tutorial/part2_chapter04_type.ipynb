{
 "cells": [
  {
   "cell_type": "markdown",
   "metadata": {},
   "source": [
    "# Chapter 4: type() - 컴퓨터는 뭘 받았는지 어떻게 알까?\n",
    "\n",
    "## 🎯 이번 챕터의 목표\n",
    "- 자료형(Type)의 개념 이해하기\n",
    "- 4가지 기본 자료형 익히기 (int, float, str, bool)\n",
    "- type() 함수로 자료형 확인하기\n",
    "\n",
    "---\n",
    "\n",
    "## 🤔 지난 시간의 문제를 기억하시나요?\n",
    "\n",
    "Chapter 1에서 이런 일이 있었죠:"
   ]
  },
  {
   "cell_type": "code",
   "execution_count": null,
   "metadata": {},
   "outputs": [],
   "source": [
    "# 🎮 문제 재현\n",
    "num1 = input(\"첫 번째 숫자: \")  # 10 입력\n",
    "num2 = input(\"두 번째 숫자: \")  # 20 입력\n",
    "\n",
    "result = num1 + num2\n",
    "print(f\"결과: {result}\")  # 30이 아니라 1020?!"
   ]
  },
  {
   "cell_type": "markdown",
   "metadata": {},
   "source": [
    "### 😱 왜 10 + 20 = 1020?\n",
    "\n",
    "이게 바로 **자료형(Type)** 때문입니다!\n",
    "\n",
    "컴퓨터 입장에서:\n",
    "- \"10\" → 문자 '1'과 '0'이 합쳐진 **문자열**\n",
    "- 10 → 숫자 **십**\n",
    "\n",
    "전혀 다른 거예요!\n",
    "\n",
    "---"
   ]
  },
  {
   "cell_type": "markdown",
   "metadata": {},
   "source": [
    "## 1️⃣ type() 함수로 정체 확인하기"
   ]
  },
  {
   "cell_type": "code",
   "execution_count": null,
   "metadata": {},
   "outputs": [],
   "source": [
    "# 🎮 실습: type() 사용하기\n",
    "# 문자열\n",
    "text = \"Hello\"\n",
    "print(f\"'{text}'의 타입: {type(text)}\")\n",
    "\n",
    "# 정수\n",
    "number = 42\n",
    "print(f\"{number}의 타입: {type(number)}\")\n",
    "\n",
    "# 실수\n",
    "pi = 3.14\n",
    "print(f\"{pi}의 타입: {type(pi)}\")\n",
    "\n",
    "# 불린\n",
    "is_student = True\n",
    "print(f\"{is_student}의 타입: {type(is_student)}\")"
   ]
  },
  {
   "cell_type": "code",
   "execution_count": null,
   "metadata": {},
   "outputs": [],
   "source": [
    "# 🎮 실습: input()의 타입 확인\n",
    "user_input = input(\"아무거나 입력: \")\n",
    "\n",
    "print(f\"입력값: {user_input}\")\n",
    "print(f\"타입: {type(user_input)}\")\n",
    "print(\"\\n💡 input()은 항상 str(문자열)로 받습니다!\")"
   ]
  },
  {
   "cell_type": "markdown",
   "metadata": {},
   "source": [
    "## 2️⃣ 파이썬의 4가지 기본 자료형"
   ]
  },
  {
   "cell_type": "code",
   "execution_count": null,
   "metadata": {},
   "outputs": [],
   "source": [
    "# 🎮 실습: int (정수)\n",
    "print(\"📌 int (정수) - 소수점이 없는 숫자\")\n",
    "\n",
    "age = 25\n",
    "count = 100\n",
    "temperature = -5  # 음수도 가능\n",
    "year = 2024\n",
    "\n",
    "print(f\"나이: {age}, 타입: {type(age)}\")\n",
    "print(f\"개수: {count}, 타입: {type(count)}\")\n",
    "print(f\"온도: {temperature}도\")\n",
    "\n",
    "# 정수끼리 계산\n",
    "total = age + count\n",
    "print(f\"{age} + {count} = {total}\")"
   ]
  },
  {
   "cell_type": "code",
   "execution_count": null,
   "metadata": {},
   "outputs": [],
   "source": [
    "# 🎮 실습: float (실수)\n",
    "print(\"📌 float (실수) - 소수점이 있는 숫자\")\n",
    "\n",
    "height = 175.5\n",
    "weight = 68.3\n",
    "pi = 3.14159\n",
    "price = 1500.50\n",
    "\n",
    "print(f\"키: {height}cm, 타입: {type(height)}\")\n",
    "print(f\"몸무게: {weight}kg\")\n",
    "print(f\"원주율: {pi}\")\n",
    "\n",
    "# BMI 계산 (실수 계산)\n",
    "height_m = height / 100  # cm를 m로\n",
    "bmi = weight / (height_m ** 2)\n",
    "print(f\"BMI: {bmi:.2f}\")"
   ]
  },
  {
   "cell_type": "code",
   "execution_count": null,
   "metadata": {},
   "outputs": [],
   "source": [
    "# 🎮 실습: str (문자열)\n",
    "print(\"📌 str (문자열) - 문자들의 나열\")\n",
    "\n",
    "name = \"김철수\"\n",
    "message = 'Hello Python!'  # 작은따옴표도 OK\n",
    "number_str = \"12345\"  # 숫자처럼 보이지만 문자열!\n",
    "\n",
    "print(f\"이름: {name}, 타입: {type(name)}\")\n",
    "print(f\"메시지: {message}\")\n",
    "print(f\"문자열 숫자: {number_str}, 타입: {type(number_str)}\")\n",
    "\n",
    "# 문자열 연산\n",
    "greeting = \"안녕\" + \"하세요\"  # 연결\n",
    "repeat = \"파이썬\" * 3  # 반복\n",
    "print(f\"연결: {greeting}\")\n",
    "print(f\"반복: {repeat}\")"
   ]
  },
  {
   "cell_type": "code",
   "execution_count": null,
   "metadata": {},
   "outputs": [],
   "source": [
    "# 🎮 실습: bool (불린)\n",
    "print(\"📌 bool (불린) - 참(True) 또는 거짓(False)\")\n",
    "\n",
    "is_student = True\n",
    "has_car = False\n",
    "is_adult = age >= 18  # 비교 연산의 결과\n",
    "\n",
    "print(f\"학생인가? {is_student}, 타입: {type(is_student)}\")\n",
    "print(f\"차가 있나? {has_car}\")\n",
    "print(f\"성인인가? {is_adult} (나이: {age})\")\n",
    "\n",
    "# 불린 연산\n",
    "can_drive = is_adult and has_car\n",
    "print(f\"운전 가능? {can_drive}\")"
   ]
  },
  {
   "cell_type": "markdown",
   "metadata": {},
   "source": [
    "## 3️⃣ 왜 자료형을 구분해야 할까?"
   ]
  },
  {
   "cell_type": "code",
   "execution_count": null,
   "metadata": {},
   "outputs": [],
   "source": [
    "# 🎮 실습: 자료형별 연산 차이\n",
    "\n",
    "# 숫자 + 숫자 = 계산\n",
    "num1 = 10\n",
    "num2 = 20\n",
    "print(f\"숫자: {num1} + {num2} = {num1 + num2}\")\n",
    "\n",
    "# 문자 + 문자 = 연결\n",
    "str1 = \"10\"\n",
    "str2 = \"20\"\n",
    "print(f\"문자: '{str1}' + '{str2}' = '{str1 + str2}'\")\n",
    "\n",
    "# 숫자 * 숫자 = 곱셈\n",
    "print(f\"숫자: {num1} × 3 = {num1 * 3}\")\n",
    "\n",
    "# 문자 * 숫자 = 반복\n",
    "print(f\"문자: '{str1}' × 3 = '{str1 * 3}'\")"
   ]
  },
  {
   "cell_type": "code",
   "execution_count": null,
   "metadata": {},
   "outputs": [],
   "source": [
    "# 🎮 실습: 타입 에러 체험\n",
    "number = 10\n",
    "text = \"20\"\n",
    "\n",
    "# 서로 다른 타입끼리 연산하면?\n",
    "try:\n",
    "    result = number + text\n",
    "except TypeError as e:\n",
    "    print(f\"❌ 에러 발생: {e}\")\n",
    "    print(\"→ 숫자와 문자를 더할 수 없습니다!\")"
   ]
  },
  {
   "cell_type": "markdown",
   "metadata": {},
   "source": [
    "## 4️⃣ Quiz 문제로 실력 테스트"
   ]
  },
  {
   "cell_type": "code",
   "execution_count": null,
   "metadata": {},
   "outputs": [],
   "source": [
    "# 🧩 Quiz (Quiz.md #42번)\n",
    "# 다음 코드의 결과를 예측해보세요\n",
    "print(10 + True)\n",
    "\n",
    "# 정답을 예측한 후 실행해보세요!\n",
    "# 힌트: True는 1, False는 0으로 계산됩니다"
   ]
  },
  {
   "cell_type": "code",
   "execution_count": null,
   "metadata": {},
   "outputs": [],
   "source": [
    "# 🧩 Quiz: 타입 맞추기\n",
    "mystery1 = \"100\"\n",
    "mystery2 = 100\n",
    "mystery3 = 100.0\n",
    "mystery4 = True\n",
    "\n",
    "# 각각의 타입을 예측해보고 확인하세요\n",
    "print(f\"mystery1의 타입: {type(mystery1)}\")\n",
    "print(f\"mystery2의 타입: {type(mystery2)}\")\n",
    "print(f\"mystery3의 타입: {type(mystery3)}\")\n",
    "print(f\"mystery4의 타입: {type(mystery4)}\")"
   ]
  },
  {
   "cell_type": "markdown",
   "metadata": {},
   "source": [
    "## 5️⃣ 실전 예제: 자료형 확인 프로그램"
   ]
  },
  {
   "cell_type": "code",
   "execution_count": null,
   "metadata": {},
   "outputs": [],
   "source": [
    "# 🎮 실습: 자료형 탐정 프로그램\n",
    "print(\"🔍 자료형 탐정 프로그램\")\n",
    "print(\"=\" * 30)\n",
    "\n",
    "# 다양한 데이터 준비\n",
    "data_list = [\n",
    "    42,           # int\n",
    "    3.14,         # float\n",
    "    \"Python\",     # str\n",
    "    True,         # bool\n",
    "    \"100\",        # str (숫자처럼 보이지만)\n",
    "    100.0,        # float (정수처럼 보이지만)\n",
    "]\n",
    "\n",
    "for data in data_list:\n",
    "    data_type = type(data).__name__  # 타입 이름만 추출\n",
    "    \n",
    "    if data_type == 'int':\n",
    "        emoji = \"🔢\"\n",
    "    elif data_type == 'float':\n",
    "        emoji = \"🔢\"\n",
    "    elif data_type == 'str':\n",
    "        emoji = \"📝\"\n",
    "    elif data_type == 'bool':\n",
    "        emoji = \"✅\"\n",
    "    else:\n",
    "        emoji = \"❓\"\n",
    "    \n",
    "    print(f\"{emoji} {data:10} → {data_type}\")"
   ]
  },
  {
   "cell_type": "markdown",
   "metadata": {},
   "source": [
    "## 🎯 이번 챕터 정리\n",
    "\n",
    "### ✅ 배운 내용\n",
    "1. **자료형(Type)** - 데이터의 종류\n",
    "2. **type()** - 자료형 확인 함수\n",
    "3. **4가지 기본 자료형**:\n",
    "   - `int`: 정수 (1, 2, -5, 100)\n",
    "   - `float`: 실수 (3.14, -0.5, 100.0)\n",
    "   - `str`: 문자열 (\"Hello\", '파이썬', \"123\")\n",
    "   - `bool`: 불린 (True, False)\n",
    "\n",
    "### 💡 핵심 포인트\n",
    "- **\"3\" + \"3\" = \"33\"** (문자 연결)\n",
    "- **3 + 3 = 6** (숫자 계산)\n",
    "- input()은 **항상 str**로 받음!\n",
    "- 타입이 다르면 연산 방식도 다름\n",
    "\n",
    "### ➡️ 다음 챕터에서는...\n",
    "자료형을 알았으니, 이제 데이터를 **저장하고 재사용**하는  \n",
    "**변수(Variable)**를 배워봅시다!"
   ]
  },
  {
   "cell_type": "markdown",
   "metadata": {},
   "source": [
    "## 💪 연습 문제\n",
    "\n",
    "### 문제: 타입 검사기\n",
    "사용자가 입력한 값이 숫자인지, 문자인지 판별하는 프로그램을 만드세요."
   ]
  },
  {
   "cell_type": "code",
   "execution_count": null,
   "metadata": {},
   "outputs": [],
   "source": [
    "# 힌트:\n",
    "# - input()으로 받은 값의 타입 확인\n",
    "# - 숫자처럼 보이는지 확인 (isdigit() 메소드 사용 가능)\n",
    "\n",
    "# 여기에 코드 작성\n"
   ]
  }
 ],
 "metadata": {
  "kernelspec": {
   "display_name": "Python 3",
   "language": "python",
   "name": "python3"
  },
  "language_info": {
   "codemirror_mode": {
    "name": "ipython",
    "version": 3
   },
   "file_extension": ".py",
   "mimetype": "text/x-python",
   "name": "python",
   "nbconvert_exporter": "python",
   "pygments_lexer": "ipython3",
   "version": "3.8.0"
  }
 },
 "nbformat": 4,
 "nbformat_minor": 4
}