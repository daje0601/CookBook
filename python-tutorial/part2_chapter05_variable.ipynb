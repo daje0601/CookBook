{
 "cells": [
  {
   "cell_type": "markdown",
   "metadata": {},
   "source": [
    "# Chapter 5: 변수(Variable) - 컴퓨터가 기억하게 만들기\n",
    "\n",
    "## 🎯 이번 챕터의 목표\n",
    "- 변수의 개념과 필요성 이해하기\n",
    "- 변수 이름 짓기 규칙 익히기\n",
    "- 변수에 값 저장하고 사용하기\n",
    "\n",
    "---\n",
    "\n",
    "## 🤔 왜 변수가 필요할까?\n",
    "\n",
    "변수가 없다면?"
   ]
  },
  {
   "cell_type": "code",
   "execution_count": null,
   "metadata": {},
   "outputs": [],
   "source": [
    "# 😰 변수가 없다면\n",
    "print(input(\"나이: \"), \"살이시군요!\")  # 입력받고 바로 출력하고 끝\n",
    "\n",
    "# 10년 후 나이를 계산하고 싶은데...\n",
    "# 어? 아까 입력한 나이를 다시 쓸 수가 없네?"
   ]
  },
  {
   "cell_type": "code",
   "execution_count": null,
   "metadata": {},
   "outputs": [],
   "source": [
    "# 😊 변수가 있다면\n",
    "age = input(\"나이: \")  # age라는 변수에 저장!\n",
    "\n",
    "print(f\"현재 {age}살이시군요!\")\n",
    "# print(f\"10년 후엔 {int(age) + 10}살\")  # 재사용 가능!\n",
    "# print(f\"20년 후엔 {int(age) + 20}살\")  # 계속 재사용!"
   ]
  },
  {
   "cell_type": "markdown",
   "metadata": {},
   "source": [
    "## 1️⃣ 변수란 무엇인가?\n",
    "\n",
    "변수는 **데이터를 담는 상자**입니다!\n",
    "- 상자에 **이름표**를 붙이고\n",
    "- 그 안에 **데이터**를 넣어두고\n",
    "- 필요할 때 **꺼내 쓰는** 거예요\n",
    "\n",
    "---"
   ]
  },
  {
   "cell_type": "code",
   "execution_count": null,
   "metadata": {},
   "outputs": [],
   "source": [
    "# 🎮 실습: 변수 만들기\n",
    "# 변수이름 = 값\n",
    "\n",
    "name = \"김철수\"        # name이라는 상자에 \"김철수\" 저장\n",
    "age = 25              # age라는 상자에 25 저장\n",
    "height = 175.5        # height라는 상자에 175.5 저장\n",
    "is_student = True     # is_student라는 상자에 True 저장\n",
    "\n",
    "print(f\"이름: {name}\")\n",
    "print(f\"나이: {age}\")\n",
    "print(f\"키: {height}\")\n",
    "print(f\"학생 여부: {is_student}\")"
   ]
  },
  {
   "cell_type": "markdown",
   "metadata": {},
   "source": [
    "## 2️⃣ 변수명 짓기 규칙 📝"
   ]
  },
  {
   "cell_type": "code",
   "execution_count": null,
   "metadata": {},
   "outputs": [],
   "source": [
    "# 🎮 실습: 올바른 변수명\n",
    "\n",
    "# ✅ 좋은 변수명\n",
    "user_name = \"홍길동\"       # 의미가 명확\n",
    "total_score = 95          # 무엇의 총점인지 알 수 있음\n",
    "is_logged_in = True       # 불린값임을 알 수 있음\n",
    "student_count = 30        # 학생 수임을 알 수 있음\n",
    "\n",
    "print(\"좋은 변수명 예시:\")\n",
    "print(f\"사용자 이름: {user_name}\")\n",
    "print(f\"총점: {total_score}\")\n",
    "print(f\"로그인 상태: {is_logged_in}\")\n",
    "print(f\"학생 수: {student_count}명\")"
   ]
  },
  {
   "cell_type": "code",
   "execution_count": null,
   "metadata": {},
   "outputs": [],
   "source": [
    "# 🎮 실습: 나쁜 변수명\n",
    "\n",
    "# ❌ 나쁜 변수명 (실행은 되지만 권장하지 않음)\n",
    "a = \"홍길동\"      # a가 뭔지 모르겠음\n",
    "x123 = 95        # 의미를 알 수 없음\n",
    "data = True      # 너무 일반적임\n",
    "\n",
    "print(\"\\n나쁜 변수명 예시:\")\n",
    "print(f\"a = {a}  # 이게 뭘 의미하는지?\")\n",
    "print(f\"x123 = {x123}  # 무슨 값인지?\")"
   ]
  },
  {
   "cell_type": "code",
   "execution_count": null,
   "metadata": {},
   "outputs": [],
   "source": [
    "# 🎮 실습: 변수명 규칙\n",
    "\n",
    "# 1. 영문자, 숫자, 언더스코어(_)만 사용\n",
    "user_name = \"OK\"\n",
    "user2 = \"OK\"\n",
    "user_2 = \"OK\"\n",
    "\n",
    "# 2. 숫자로 시작 불가\n",
    "# 1st_user = \"Error\"  # SyntaxError!\n",
    "first_user = \"OK\"  # 이렇게 써야 함\n",
    "\n",
    "# 3. 예약어 사용 불가\n",
    "# if = \"Error\"  # if는 예약어\n",
    "# for = \"Error\"  # for도 예약어\n",
    "\n",
    "# 4. 대소문자 구분\n",
    "Name = \"철수\"\n",
    "name = \"영희\"\n",
    "NAME = \"민수\"\n",
    "print(f\"Name: {Name}, name: {name}, NAME: {NAME}\")"
   ]
  },
  {
   "cell_type": "markdown",
   "metadata": {},
   "source": [
    "## 3️⃣ 변수 값 변경하기"
   ]
  },
  {
   "cell_type": "code",
   "execution_count": null,
   "metadata": {},
   "outputs": [],
   "source": [
    "# 🎮 실습: 변수는 '변'할 수 있는 '수'\n",
    "score = 50\n",
    "print(f\"처음 점수: {score}\")\n",
    "\n",
    "score = 70  # 값 변경\n",
    "print(f\"수정된 점수: {score}\")\n",
    "\n",
    "score = score + 10  # 기존 값에 10 더하기\n",
    "print(f\"10점 추가: {score}\")\n",
    "\n",
    "score += 5  # 더 간단한 방법 (score = score + 5와 같음)\n",
    "print(f\"5점 더 추가: {score}\")"
   ]
  },
  {
   "cell_type": "code",
   "execution_count": null,
   "metadata": {},
   "outputs": [],
   "source": [
    "# 🎮 실습: 변수끼리 연산\n",
    "math_score = 90\n",
    "english_score = 85\n",
    "science_score = 92\n",
    "\n",
    "print(\"과목별 점수:\")\n",
    "print(f\"수학: {math_score}점\")\n",
    "print(f\"영어: {english_score}점\")\n",
    "print(f\"과학: {science_score}점\")\n",
    "\n",
    "# 변수끼리 계산\n",
    "total = math_score + english_score + science_score\n",
    "average = total / 3\n",
    "\n",
    "print(f\"\\n총점: {total}점\")\n",
    "print(f\"평균: {average:.1f}점\")"
   ]
  },
  {
   "cell_type": "markdown",
   "metadata": {},
   "source": [
    "## 4️⃣ 여러 변수 동시에 다루기"
   ]
  },
  {
   "cell_type": "code",
   "execution_count": null,
   "metadata": {},
   "outputs": [],
   "source": [
    "# 🎮 실습: 여러 변수 한 번에 만들기\n",
    "\n",
    "# 방법 1: 각각 만들기\n",
    "x = 10\n",
    "y = 20\n",
    "z = 30\n",
    "\n",
    "# 방법 2: 한 줄에 만들기\n",
    "a, b, c = 1, 2, 3\n",
    "print(f\"a={a}, b={b}, c={c}\")\n",
    "\n",
    "# 방법 3: 같은 값으로 초기화\n",
    "d = e = f = 0\n",
    "print(f\"d={d}, e={e}, f={f}\")"
   ]
  },
  {
   "cell_type": "code",
   "execution_count": null,
   "metadata": {},
   "outputs": [],
   "source": [
    "# 🎮 실습: 변수 값 교환 (스왑)\n",
    "first = \"사과\"\n",
    "second = \"바나나\"\n",
    "\n",
    "print(f\"교환 전: first={first}, second={second}\")\n",
    "\n",
    "# 파이썬의 멋진 스왑\n",
    "first, second = second, first\n",
    "\n",
    "print(f\"교환 후: first={first}, second={second}\")"
   ]
  },
  {
   "cell_type": "markdown",
   "metadata": {},
   "source": [
    "## 5️⃣ Quiz 문제로 실력 테스트"
   ]
  },
  {
   "cell_type": "code",
   "execution_count": null,
   "metadata": {},
   "outputs": [],
   "source": [
    "# 🧩 Quiz (Quiz.md #9번)\n",
    "# 다음 코드의 결과를 예측해보세요\n",
    "a = b = c = 'Python'\n",
    "print(a, b, c)\n",
    "\n",
    "# 정답을 예측한 후 실행해보세요!"
   ]
  },
  {
   "cell_type": "code",
   "execution_count": null,
   "metadata": {},
   "outputs": [],
   "source": [
    "# 🧩 Quiz: 변수 추적하기\n",
    "x = 10\n",
    "y = x\n",
    "x = 20\n",
    "\n",
    "# x와 y의 값은?\n",
    "print(f\"x = {x}\")\n",
    "print(f\"y = {y}\")\n",
    "\n",
    "# y는 왜 20이 아닐까?"
   ]
  },
  {
   "cell_type": "markdown",
   "metadata": {},
   "source": [
    "## 6️⃣ 실전 예제: 개인 정보 관리 프로그램"
   ]
  },
  {
   "cell_type": "code",
   "execution_count": null,
   "metadata": {},
   "outputs": [],
   "source": [
    "# 🎮 실습: 변수를 활용한 프로필 관리\n",
    "print(\"👤 개인 정보 관리 시스템\")\n",
    "print(\"=\" * 40)\n",
    "\n",
    "# 정보 입력받기\n",
    "name = input(\"이름: \")\n",
    "age = input(\"나이: \")\n",
    "city = input(\"거주 도시: \")\n",
    "job = input(\"직업: \")\n",
    "\n",
    "# 추가 정보 계산\n",
    "birth_year = 2024 - int(age)\n",
    "retirement_age = 65\n",
    "years_to_retirement = retirement_age - int(age)\n",
    "\n",
    "# 결과 출력\n",
    "print(\"\\n\" + \"=\" * 40)\n",
    "print(\"📋 입력된 정보\")\n",
    "print(\"=\" * 40)\n",
    "print(f\"이름: {name}\")\n",
    "print(f\"나이: {age}살\")\n",
    "print(f\"출생년도: 약 {birth_year}년\")\n",
    "print(f\"거주지: {city}\")\n",
    "print(f\"직업: {job}\")\n",
    "\n",
    "if years_to_retirement > 0:\n",
    "    print(f\"은퇴까지: 약 {years_to_retirement}년 남음\")\n",
    "else:\n",
    "    print(\"은퇴 연령을 넘으셨네요!\")\n",
    "\n",
    "print(\"=\" * 40)"
   ]
  },
  {
   "cell_type": "markdown",
   "metadata": {},
   "source": [
    "## 🎯 이번 챕터 정리\n",
    "\n",
    "### ✅ 배운 내용\n",
    "1. **변수** - 데이터를 저장하는 상자\n",
    "2. **변수명 규칙** - 의미 있고 명확하게\n",
    "3. **값 할당** - `=` 연산자 사용\n",
    "4. **값 변경** - 언제든 새로운 값 저장 가능\n",
    "5. **변수 활용** - 재사용과 계산\n",
    "\n",
    "### 💡 핵심 포인트\n",
    "- 변수명은 **의미를 명확히**\n",
    "- 한 번 저장하면 **계속 재사용** 가능\n",
    "- 변수끼리 **연산** 가능\n",
    "- 값은 언제든 **변경** 가능\n",
    "\n",
    "### ➡️ 다음 챕터에서는...\n",
    "input()은 항상 문자열로 받는다고 했죠?  \n",
    "문자 \"10\"을 숫자 10으로 바꾸는 **형변환**을 배워봅시다!"
   ]
  },
  {
   "cell_type": "markdown",
   "metadata": {},
   "source": [
    "## 💪 연습 문제\n",
    "\n",
    "### 문제: 쇼핑 계산기\n",
    "상품 3개의 가격을 입력받아 총액과 할인된 가격을 계산하세요.\n",
    "(10% 할인 적용)"
   ]
  },
  {
   "cell_type": "code",
   "execution_count": null,
   "metadata": {},
   "outputs": [],
   "source": [
    "# 예시:\n",
    "# 상품1: 10000원\n",
    "# 상품2: 20000원  \n",
    "# 상품3: 15000원\n",
    "# 총액: 45000원\n",
    "# 10% 할인 후: 40500원\n",
    "\n",
    "# 여기에 코드 작성\n"
   ]
  }
 ],
 "metadata": {
  "kernelspec": {
   "display_name": "Python 3",
   "language": "python",
   "name": "python3"
  },
  "language_info": {
   "codemirror_mode": {
    "name": "ipython",
    "version": 3
   },
   "file_extension": ".py",
   "mimetype": "text/x-python",
   "name": "python",
   "nbconvert_exporter": "python",
   "pygments_lexer": "ipython3",
   "version": "3.8.0"
  }
 },
 "nbformat": 4,
 "nbformat_minor": 4
}