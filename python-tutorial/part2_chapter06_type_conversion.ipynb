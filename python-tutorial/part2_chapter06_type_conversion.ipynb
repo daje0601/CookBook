{
 "cells": [
  {
   "cell_type": "markdown",
   "metadata": {},
   "source": [
    "# Chapter 6: 형변환 - 컴퓨터가 이해할 수 있게 바꾸기\n",
    "\n",
    "## 🎯 이번 챕터의 목표\n",
    "- 형변환의 필요성 이해하기\n",
    "- int(), float(), str() 함수 사용하기\n",
    "- input()과 형변환 함께 활용하기\n",
    "\n",
    "---\n",
    "\n",
    "## 🤔 드디어 해결할 시간!\n",
    "\n",
    "Chapter 1부터 계속 나왔던 문제:"
   ]
  },
  {
   "cell_type": "code",
   "execution_count": null,
   "metadata": {},
   "outputs": [],
   "source": [
    "# 😰 계속된 문제\n",
    "num1 = input(\"첫 번째 숫자: \")  # \"10\"\n",
    "num2 = input(\"두 번째 숫자: \")  # \"20\"\n",
    "\n",
    "print(f\"결과: {num1 + num2}\")  # \"1020\" 😱\n",
    "print(f\"타입 확인: {type(num1)}\")  # str!"
   ]
  },
  {
   "cell_type": "markdown",
   "metadata": {},
   "source": [
    "### 💡 해결책: 형변환(Type Conversion)!\n",
    "\n",
    "형변환은 한 자료형을 다른 자료형으로 바꾸는 것입니다.\n",
    "마치 **달러를 원화로 환전**하는 것처럼!\n",
    "\n",
    "---"
   ]
  },
  {
   "cell_type": "markdown",
   "metadata": {},
   "source": [
    "## 1️⃣ int() - 정수로 변환하기"
   ]
  },
  {
   "cell_type": "code",
   "execution_count": null,
   "metadata": {},
   "outputs": [],
   "source": [
    "# 🎮 실습: 문자를 정수로\n",
    "text_number = \"100\"\n",
    "print(f\"변환 전: {text_number}, 타입: {type(text_number)}\")\n",
    "\n",
    "# int()로 변환\n",
    "real_number = int(text_number)\n",
    "print(f\"변환 후: {real_number}, 타입: {type(real_number)}\")\n",
    "\n",
    "# 이제 계산 가능!\n",
    "print(f\"계산: {real_number + 50} = {real_number + 50}\")"
   ]
  },
  {
   "cell_type": "code",
   "execution_count": null,
   "metadata": {},
   "outputs": [],
   "source": [
    "# 🎮 실습: input()과 함께 사용\n",
    "age_str = input(\"나이를 입력하세요: \")\n",
    "age = int(age_str)  # 바로 정수로 변환!\n",
    "\n",
    "print(f\"현재 나이: {age}살\")\n",
    "print(f\"10년 후: {age + 10}살\")\n",
    "print(f\"20년 후: {age + 20}살\")\n",
    "\n",
    "# 한 줄로도 가능\n",
    "year = int(input(\"태어난 년도: \"))\n",
    "print(f\"나이: {2024 - year}살\")"
   ]
  },
  {
   "cell_type": "markdown",
   "metadata": {},
   "source": [
    "## 2️⃣ float() - 실수로 변환하기"
   ]
  },
  {
   "cell_type": "code",
   "execution_count": null,
   "metadata": {},
   "outputs": [],
   "source": [
    "# 🎮 실습: 실수 변환\n",
    "height_str = \"175.5\"\n",
    "weight_str = \"68.3\"\n",
    "\n",
    "# float()로 변환\n",
    "height = float(height_str)\n",
    "weight = float(weight_str)\n",
    "\n",
    "print(f\"키: {height}cm, 몸무게: {weight}kg\")\n",
    "\n",
    "# BMI 계산\n",
    "height_m = height / 100\n",
    "bmi = weight / (height_m ** 2)\n",
    "print(f\"BMI: {bmi:.2f}\")"
   ]
  },
  {
   "cell_type": "code",
   "execution_count": null,
   "metadata": {},
   "outputs": [],
   "source": [
    "# 🎮 실습: float이 더 안전한 이유\n",
    "# 정수를 입력해도, 실수를 입력해도 OK!\n",
    "\n",
    "num1 = float(input(\"첫 번째 숫자: \"))  # 10 또는 10.5 모두 가능\n",
    "num2 = float(input(\"두 번째 숫자: \"))  # 20 또는 20.7 모두 가능\n",
    "\n",
    "print(f\"{num1} + {num2} = {num1 + num2}\")\n",
    "print(f\"{num1} ÷ {num2} = {num1 / num2:.2f}\")"
   ]
  },
  {
   "cell_type": "markdown",
   "metadata": {},
   "source": [
    "## 3️⃣ str() - 문자열로 변환하기"
   ]
  },
  {
   "cell_type": "code",
   "execution_count": null,
   "metadata": {},
   "outputs": [],
   "source": [
    "# 🎮 실습: 숫자를 문자로\n",
    "score = 95\n",
    "rank = 3\n",
    "\n",
    "# 문자열과 연결하려면?\n",
    "# message = \"점수: \" + score  # TypeError!\n",
    "\n",
    "# str()로 변환\n",
    "message = \"점수: \" + str(score) + \"점, 순위: \" + str(rank) + \"등\"\n",
    "print(message)\n",
    "\n",
    "# 더 좋은 방법: f-string (자동 변환)\n",
    "message2 = f\"점수: {score}점, 순위: {rank}등\"\n",
    "print(message2)"
   ]
  },
  {
   "cell_type": "markdown",
   "metadata": {},
   "source": [
    "## 4️⃣ 형변환 주의사항 ⚠️"
   ]
  },
  {
   "cell_type": "code",
   "execution_count": null,
   "metadata": {},
   "outputs": [],
   "source": [
    "# 🎮 실습: 변환 가능한 것과 불가능한 것\n",
    "\n",
    "# ✅ 변환 가능\n",
    "print(int(\"100\"))      # 문자 → 정수\n",
    "print(float(\"3.14\"))   # 문자 → 실수\n",
    "print(str(42))         # 숫자 → 문자\n",
    "print(int(10.9))       # 실수 → 정수 (소수점 버림!)\n",
    "\n",
    "print(\"\\n⚠️ 주의: int(10.9) =\", int(10.9), \"(반올림 아님!)\")"
   ]
  },
  {
   "cell_type": "code",
   "execution_count": null,
   "metadata": {},
   "outputs": [],
   "source": [
    "# 🎮 실습: 변환 불가능한 경우\n",
    "try:\n",
    "    # ❌ 변환 불가능\n",
    "    result = int(\"abc\")  # 문자를 숫자로?\n",
    "except ValueError:\n",
    "    print(\"❌ 'abc'는 숫자로 변환할 수 없습니다!\")\n",
    "\n",
    "try:\n",
    "    result = int(\"10.5\")  # 실수 문자열을 바로 int로?\n",
    "except ValueError:\n",
    "    print(\"❌ '10.5'는 바로 int로 변환 불가!\")\n",
    "    print(\"✅ 해결: int(float('10.5')) =\", int(float(\"10.5\")))"
   ]
  },
  {
   "cell_type": "markdown",
   "metadata": {},
   "source": [
    "## 5️⃣ 실전 예제: 드디어 작동하는 계산기!"
   ]
  },
  {
   "cell_type": "code",
   "execution_count": null,
   "metadata": {},
   "outputs": [],
   "source": [
    "# 🎮 실습: 제대로 된 계산기 v2.0\n",
    "print(\"🧮 간단한 계산기 v2.0\")\n",
    "print(\"=\" * 40)\n",
    "\n",
    "# 형변환으로 숫자로 받기!\n",
    "num1 = float(input(\"첫 번째 숫자: \"))\n",
    "num2 = float(input(\"두 번째 숫자: \"))\n",
    "\n",
    "print(\"\\n📊 계산 결과:\")\n",
    "print(f\"{num1} + {num2} = {num1 + num2}\")\n",
    "print(f\"{num1} - {num2} = {num1 - num2}\")\n",
    "print(f\"{num1} × {num2} = {num1 * num2}\")\n",
    "\n",
    "if num2 != 0:\n",
    "    print(f\"{num1} ÷ {num2} = {num1 / num2:.2f}\")\n",
    "else:\n",
    "    print(\"0으로 나눌 수 없습니다!\")"
   ]
  },
  {
   "cell_type": "markdown",
   "metadata": {},
   "source": [
    "## 6️⃣ Quiz 문제로 실력 테스트"
   ]
  },
  {
   "cell_type": "code",
   "execution_count": null,
   "metadata": {},
   "outputs": [],
   "source": [
    "# 🧩 Quiz (Quiz.md #47번)\n",
    "# 다음 코드의 결과를 예측해보세요\n",
    "print(int())\n",
    "\n",
    "# 정답을 예측한 후 실행해보세요!\n",
    "# 힌트: 기본값이 있을까?"
   ]
  },
  {
   "cell_type": "code",
   "execution_count": null,
   "metadata": {},
   "outputs": [],
   "source": [
    "# 🧩 Quiz: 형변환 체인\n",
    "original = \"3.14\"\n",
    "\n",
    "# 다음 변환들의 결과를 예측해보세요\n",
    "step1 = float(original)\n",
    "step2 = int(step1)\n",
    "step3 = str(step2)\n",
    "step4 = int(step3) * 2\n",
    "\n",
    "print(f\"원본: {original}\")\n",
    "print(f\"step1 (float): {step1}\")\n",
    "print(f\"step2 (int): {step2}\")\n",
    "print(f\"step3 (str): {step3}\")\n",
    "print(f\"step4 (계산): {step4}\")"
   ]
  },
  {
   "cell_type": "markdown",
   "metadata": {},
   "source": [
    "## 7️⃣ 종합 실습: BMI 계산기"
   ]
  },
  {
   "cell_type": "code",
   "execution_count": null,
   "metadata": {},
   "outputs": [],
   "source": [
    "# 🎮 실습: BMI 계산기 완성판\n",
    "print(\"🏥 BMI 계산기\")\n",
    "print(\"=\" * 40)\n",
    "\n",
    "# 입력받고 바로 형변환\n",
    "name = input(\"이름: \")\n",
    "height = float(input(\"키(cm): \"))\n",
    "weight = float(input(\"몸무게(kg): \"))\n",
    "\n",
    "# BMI 계산\n",
    "height_m = height / 100\n",
    "bmi = weight / (height_m ** 2)\n",
    "\n",
    "# 비만도 판정\n",
    "if bmi < 18.5:\n",
    "    status = \"저체중\"\n",
    "    emoji = \"🥗\"\n",
    "elif bmi < 23:\n",
    "    status = \"정상\"\n",
    "    emoji = \"😊\"\n",
    "elif bmi < 25:\n",
    "    status = \"과체중\"\n",
    "    emoji = \"🏃\"\n",
    "else:\n",
    "    status = \"비만\"\n",
    "    emoji = \"💪\"\n",
    "\n",
    "# 결과 출력\n",
    "print(\"\\n\" + \"=\" * 40)\n",
    "print(f\"📋 {name}님의 BMI 분석\")\n",
    "print(\"=\" * 40)\n",
    "print(f\"키: {height}cm\")\n",
    "print(f\"몸무게: {weight}kg\")\n",
    "print(f\"BMI: {bmi:.1f}\")\n",
    "print(f\"판정: {status} {emoji}\")\n",
    "print(\"=\" * 40)"
   ]
  },
  {
   "cell_type": "markdown",
   "metadata": {},
   "source": [
    "## 🎯 이번 챕터 정리\n",
    "\n",
    "### ✅ 배운 내용\n",
    "1. **형변환** - 자료형을 바꾸기\n",
    "2. **int()** - 정수로 변환\n",
    "3. **float()** - 실수로 변환  \n",
    "4. **str()** - 문자열로 변환\n",
    "5. **input() + 형변환** - 바로 숫자로 받기\n",
    "\n",
    "### 💡 핵심 포인트\n",
    "- input()은 **항상 str**\n",
    "- 계산하려면 **숫자로 변환** 필수\n",
    "- float()이 int()보다 **유연함**\n",
    "- 변환 불가능한 경우 **에러 발생**\n",
    "\n",
    "### 🎉 축하합니다!\n",
    "드디어 **진짜 계산기**를 만들 수 있게 되었어요!\n",
    "\n",
    "### ➡️ 다음 챕터에서는...\n",
    "학생 100명의 점수를 관리하려면 변수 100개?  \n",
    "더 똑똑한 방법인 **리스트(List)**를 배워봅시다!"
   ]
  },
  {
   "cell_type": "markdown",
   "metadata": {},
   "source": [
    "## 💪 연습 문제\n",
    "\n",
    "### 문제: 나이 계산기\n",
    "출생년도를 입력받아 한국 나이와 만 나이를 계산하세요."
   ]
  },
  {
   "cell_type": "code",
   "execution_count": null,
   "metadata": {},
   "outputs": [],
   "source": "# 💡 답안 예시:\nprint(\"🎂 나이 계산기\")\nprint(\"=\" * 30)\n\nbirth_year = int(input(\"출생년도를 입력하세요: \"))\ncurrent_year = 2024  # 현재년도\n\n# 한국 나이 = 현재년도 - 출생년도 + 1\nkorean_age = current_year - birth_year + 1\n\n# 만 나이 = 현재년도 - 출생년도\ninternational_age = current_year - birth_year\n\nprint(f\"\\n📊 나이 정보\")\nprint(\"=\" * 30)\nprint(f\"출생년도: {birth_year}년\")\nprint(f\"한국 나이: {korean_age}살\")\nprint(f\"만 나이: {international_age}살\")\n\n# 추가 정보\nprint(f\"\\n💡 추가 정보:\")\nprint(f\"태어난 지 {current_year - birth_year}년이 지났습니다\")\n\nif international_age >= 20:\n    print(\"🔞 성인입니다\")\nelif international_age >= 13:\n    print(\"🧑‍🎓 청소년입니다\")  \nelse:\n    print(\"👶 어린이입니다\")\n\n# 더 정확한 만 나이 계산 (생일 고려)\nprint(\"\\n🎯 더 정확한 계산을 원하신다면:\")\nbirth_month = int(input(\"태어난 달: \"))\nbirth_day = int(input(\"태어난 일: \"))\n\n# 간단히 현재를 12월 31일로 가정\nif birth_month <= 12:  # 이미 생일이 지남\n    exact_age = international_age\nelse:  # 아직 생일이 안 지남 (실제로는 현재 월/일과 비교해야 함)\n    exact_age = international_age\n    \nprint(f\"정확한 만 나이: 약 {exact_age}살\")"
  }
 ],
 "metadata": {
  "kernelspec": {
   "display_name": "Python 3",
   "language": "python",
   "name": "python3"
  },
  "language_info": {
   "codemirror_mode": {
    "name": "ipython",
    "version": 3
   },
   "file_extension": ".py",
   "mimetype": "text/x-python",
   "name": "python",
   "nbconvert_exporter": "python",
   "pygments_lexer": "ipython3",
   "version": "3.8.0"
  }
 },
 "nbformat": 4,
 "nbformat_minor": 4
}