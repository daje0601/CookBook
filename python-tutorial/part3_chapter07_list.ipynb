{
 "cells": [
  {
   "cell_type": "markdown",
   "metadata": {},
   "source": [
    "# Chapter 7: 리스트(List) - 여러 데이터를 한 줄로 세우기\n",
    "\n",
    "## 🎯 이번 챕터의 목표\n",
    "- 리스트의 필요성 이해하기\n",
    "- 리스트 생성과 접근 방법 익히기\n",
    "- 리스트 메서드 활용하기\n",
    "\n",
    "---\n",
    "\n",
    "## 🤔 변수 100개를 만들어야 한다면?\n",
    "\n",
    "학생 30명의 점수를 관리하려면:"
   ]
  },
  {
   "cell_type": "code",
   "execution_count": null,
   "metadata": {},
   "outputs": [],
   "source": [
    "# 😰 이렇게 할 건가요?\n",
    "student1 = 85\n",
    "student2 = 90\n",
    "student3 = 78\n",
    "# ... student30까지?\n",
    "\n",
    "# 평균을 구하려면?\n",
    "# average = (student1 + student2 + ... + student30) / 30  # 😱"
   ]
  },
  {
   "cell_type": "code",
   "execution_count": null,
   "metadata": {},
   "outputs": [],
   "source": [
    "# 😊 리스트를 사용하면!\n",
    "scores = [85, 90, 78, 92, 88, 76, 95, 89, 83, 91]\n",
    "\n",
    "print(f\"학생 수: {len(scores)}명\")\n",
    "print(f\"평균 점수: {sum(scores) / len(scores):.1f}점\")\n",
    "print(f\"최고 점수: {max(scores)}점\")\n",
    "print(f\"최저 점수: {min(scores)}점\")"
   ]
  },
  {
   "cell_type": "markdown",
   "metadata": {},
   "source": [
    "## 1️⃣ 리스트 만들기와 접근하기"
   ]
  },
  {
   "cell_type": "code",
   "execution_count": null,
   "metadata": {},
   "outputs": [],
   "source": [
    "# 🎮 실습: 리스트 생성\n",
    "# 대괄호 [] 사용\n",
    "\n",
    "fruits = [\"사과\", \"바나나\", \"오렌지\"]\n",
    "numbers = [1, 2, 3, 4, 5]\n",
    "mixed = [\"파이썬\", 3.14, True, 100]  # 여러 타입 가능!\n",
    "empty = []  # 빈 리스트\n",
    "\n",
    "print(f\"과일: {fruits}\")\n",
    "print(f\"숫자: {numbers}\")\n",
    "print(f\"혼합: {mixed}\")\n",
    "print(f\"빈 리스트: {empty}\")"
   ]
  },
  {
   "cell_type": "code",
   "execution_count": null,
   "metadata": {},
   "outputs": [],
   "source": [
    "# 🎮 실습: 인덱스로 접근하기\n",
    "colors = [\"빨강\", \"파랑\", \"노랑\", \"초록\", \"보라\"]\n",
    "\n",
    "# 인덱스는 0부터 시작!\n",
    "print(f\"첫 번째 색: {colors[0]}\")  # 빨강\n",
    "print(f\"두 번째 색: {colors[1]}\")  # 파랑\n",
    "print(f\"마지막 색: {colors[-1]}\")  # 보라 (음수 인덱스!)\n",
    "print(f\"뒤에서 두 번째: {colors[-2]}\")  # 초록\n",
    "\n",
    "# 값 변경\n",
    "colors[0] = \"주황\"\n",
    "print(f\"변경 후: {colors}\")"
   ]
  },
  {
   "cell_type": "markdown",
   "metadata": {},
   "source": [
    "## 2️⃣ 리스트 슬라이싱 - 부분 추출"
   ]
  },
  {
   "cell_type": "code",
   "execution_count": null,
   "metadata": {},
   "outputs": [],
   "source": [
    "# 🎮 실습: 슬라이싱 [시작:끝:간격]\n",
    "numbers = [0, 1, 2, 3, 4, 5, 6, 7, 8, 9]\n",
    "\n",
    "print(f\"전체: {numbers}\")\n",
    "print(f\"[2:5]: {numbers[2:5]}\")     # 인덱스 2~4 (5는 제외)\n",
    "print(f\"[:3]: {numbers[:3]}\")       # 처음부터 3개\n",
    "print(f\"[5:]: {numbers[5:]}\")       # 5번째부터 끝까지\n",
    "print(f\"[::2]: {numbers[::2]}\")     # 2칸씩 건너뛰기\n",
    "print(f\"[::-1]: {numbers[::-1]}\")   # 거꾸로!"
   ]
  },
  {
   "cell_type": "markdown",
   "metadata": {},
   "source": [
    "## 3️⃣ 리스트 메서드 - 추가, 삭제, 정렬"
   ]
  },
  {
   "cell_type": "code",
   "execution_count": null,
   "metadata": {},
   "outputs": [],
   "source": [
    "# 🎮 실습: 요소 추가하기\n",
    "todo_list = [\"공부하기\", \"운동하기\"]\n",
    "print(f\"초기: {todo_list}\")\n",
    "\n",
    "# append(): 끝에 추가\n",
    "todo_list.append(\"청소하기\")\n",
    "print(f\"append 후: {todo_list}\")\n",
    "\n",
    "# insert(): 특정 위치에 추가\n",
    "todo_list.insert(1, \"책 읽기\")  # 인덱스 1에 삽입\n",
    "print(f\"insert 후: {todo_list}\")\n",
    "\n",
    "# extend(): 여러 개 추가\n",
    "todo_list.extend([\"요리하기\", \"쉬기\"])\n",
    "print(f\"extend 후: {todo_list}\")"
   ]
  },
  {
   "cell_type": "code",
   "execution_count": null,
   "metadata": {},
   "outputs": [],
   "source": [
    "# 🎮 실습: 요소 삭제하기\n",
    "numbers = [10, 20, 30, 40, 50, 30]\n",
    "print(f\"초기: {numbers}\")\n",
    "\n",
    "# remove(): 값으로 삭제 (첫 번째 것만)\n",
    "numbers.remove(30)\n",
    "print(f\"remove(30) 후: {numbers}\")\n",
    "\n",
    "# pop(): 인덱스로 삭제하고 반환\n",
    "deleted = numbers.pop(2)  # 인덱스 2 삭제\n",
    "print(f\"pop(2) 후: {numbers}, 삭제된 값: {deleted}\")\n",
    "\n",
    "# pop(): 마지막 요소 삭제\n",
    "last = numbers.pop()\n",
    "print(f\"pop() 후: {numbers}, 삭제된 값: {last}\")"
   ]
  },
  {
   "cell_type": "code",
   "execution_count": null,
   "metadata": {},
   "outputs": [],
   "source": [
    "# 🎮 실습: 정렬과 뒤집기\n",
    "scores = [85, 92, 78, 95, 88]\n",
    "print(f\"원본: {scores}\")\n",
    "\n",
    "# sort(): 오름차순 정렬 (원본 변경)\n",
    "scores.sort()\n",
    "print(f\"오름차순: {scores}\")\n",
    "\n",
    "# sort(reverse=True): 내림차순\n",
    "scores.sort(reverse=True)\n",
    "print(f\"내림차순: {scores}\")\n",
    "\n",
    "# reverse(): 순서 뒤집기\n",
    "scores.reverse()\n",
    "print(f\"뒤집기: {scores}\")"
   ]
  },
  {
   "cell_type": "markdown",
   "metadata": {},
   "source": [
    "## 4️⃣ 리스트 활용 - in, count, index"
   ]
  },
  {
   "cell_type": "code",
   "execution_count": null,
   "metadata": {},
   "outputs": [],
   "source": [
    "# 🎮 실습: 검색과 카운트\n",
    "fruits = [\"사과\", \"바나나\", \"사과\", \"오렌지\", \"사과\"]\n",
    "\n",
    "# in: 포함 여부 확인\n",
    "print(f\"'바나나' in fruits: {'바나나' in fruits}\")\n",
    "print(f\"'수박' in fruits: {'수박' in fruits}\")\n",
    "\n",
    "# count(): 개수 세기\n",
    "print(f\"'사과' 개수: {fruits.count('사과')}개\")\n",
    "\n",
    "# index(): 위치 찾기\n",
    "print(f\"'오렌지' 위치: 인덱스 {fruits.index('오렌지')}\")\n",
    "\n",
    "# 없는 항목 찾기 (에러 방지)\n",
    "if \"수박\" in fruits:\n",
    "    print(fruits.index(\"수박\"))\n",
    "else:\n",
    "    print(\"수박이 없습니다!\")"
   ]
  },
  {
   "cell_type": "markdown",
   "metadata": {},
   "source": [
    "## 5️⃣ Quiz 문제로 실력 테스트"
   ]
  },
  {
   "cell_type": "code",
   "execution_count": null,
   "metadata": {},
   "outputs": [],
   "source": [
    "# 🧩 Quiz (Quiz.md #52번)\n",
    "# 다음 코드의 결과를 예측해보세요\n",
    "x = [1, 2, 3]\n",
    "y = x\n",
    "x.append(4)\n",
    "print(y)\n",
    "\n",
    "# 정답을 예측한 후 실행해보세요!\n",
    "# 힌트: 리스트는 참조로 전달됩니다"
   ]
  },
  {
   "cell_type": "code",
   "execution_count": null,
   "metadata": {},
   "outputs": [],
   "source": [
    "# 🧩 Quiz: 리스트 조작\n",
    "numbers = [1, 2, 3, 4, 5]\n",
    "\n",
    "# 다음 연산들의 결과를 예측해보세요\n",
    "result1 = numbers * 2\n",
    "result2 = numbers + [6, 7]\n",
    "result3 = numbers[1:3] * 2\n",
    "\n",
    "print(f\"numbers * 2 = {result1}\")\n",
    "print(f\"numbers + [6, 7] = {result2}\")\n",
    "print(f\"numbers[1:3] * 2 = {result3}\")\n",
    "print(f\"원본: {numbers}\")  # 원본은 변하지 않음!"
   ]
  },
  {
   "cell_type": "markdown",
   "metadata": {},
   "source": [
    "## 6️⃣ 실전 예제: 성적 관리 프로그램"
   ]
  },
  {
   "cell_type": "code",
   "execution_count": null,
   "metadata": {},
   "outputs": [],
   "source": [
    "# 🎮 실습: 동적 성적 관리\n",
    "print(\"📊 성적 관리 프로그램\")\n",
    "print(\"=\" * 40)\n",
    "\n",
    "scores = []\n",
    "\n",
    "while True:\n",
    "    print(\"\\n1. 점수 추가\")\n",
    "    print(\"2. 점수 보기\")\n",
    "    print(\"3. 통계 보기\")\n",
    "    print(\"4. 종료\")\n",
    "    \n",
    "    choice = input(\"선택: \")\n",
    "    \n",
    "    if choice == \"1\":\n",
    "        score = float(input(\"점수 입력: \"))\n",
    "        scores.append(score)\n",
    "        print(f\"✅ {score}점 추가됨\")\n",
    "    \n",
    "    elif choice == \"2\":\n",
    "        if scores:\n",
    "            print(f\"\\n현재 점수: {scores}\")\n",
    "        else:\n",
    "            print(\"❌ 점수가 없습니다\")\n",
    "    \n",
    "    elif choice == \"3\":\n",
    "        if scores:\n",
    "            print(f\"\\n📈 통계\")\n",
    "            print(f\"학생 수: {len(scores)}명\")\n",
    "            print(f\"평균: {sum(scores)/len(scores):.1f}점\")\n",
    "            print(f\"최고: {max(scores)}점\")\n",
    "            print(f\"최저: {min(scores)}점\")\n",
    "        else:\n",
    "            print(\"❌ 점수가 없습니다\")\n",
    "    \n",
    "    elif choice == \"4\":\n",
    "        print(\"프로그램을 종료합니다\")\n",
    "        break\n",
    "    \n",
    "    else:\n",
    "        print(\"❌ 잘못된 선택입니다\")"
   ]
  },
  {
   "cell_type": "markdown",
   "metadata": {},
   "source": [
    "## 7️⃣ 리스트 컴프리헨션 맛보기"
   ]
  },
  {
   "cell_type": "code",
   "execution_count": null,
   "metadata": {},
   "outputs": [],
   "source": [
    "# 🎮 실습: 간단한 리스트 생성\n",
    "\n",
    "# 기존 방법\n",
    "squares1 = []\n",
    "for i in range(1, 6):\n",
    "    squares1.append(i ** 2)\n",
    "print(f\"기존 방법: {squares1}\")\n",
    "\n",
    "# 리스트 컴프리헨션\n",
    "squares2 = [i ** 2 for i in range(1, 6)]\n",
    "print(f\"컴프리헨션: {squares2}\")\n",
    "\n",
    "# 조건 추가\n",
    "evens = [i for i in range(1, 11) if i % 2 == 0]\n",
    "print(f\"짝수만: {evens}\")"
   ]
  },
  {
   "cell_type": "markdown",
   "metadata": {},
   "source": [
    "## 🎯 이번 챕터 정리\n",
    "\n",
    "### ✅ 배운 내용\n",
    "1. **리스트** - 여러 데이터를 순서대로 저장\n",
    "2. **인덱싱** - [0], [1], [-1]로 접근\n",
    "3. **슬라이싱** - [시작:끝:간격]으로 부분 추출\n",
    "4. **메서드** - append(), remove(), sort() 등\n",
    "5. **활용** - in, count(), index()\n",
    "\n",
    "### 💡 핵심 포인트\n",
    "- 인덱스는 **0부터** 시작\n",
    "- 음수 인덱스는 **뒤에서부터**\n",
    "- 리스트는 **변경 가능**(mutable)\n",
    "- 여러 타입을 **섞어서** 저장 가능\n",
    "\n",
    "### ➡️ 다음 챕터에서는...\n",
    "리스트와 비슷하지만 **변경할 수 없는** 튜플(Tuple)을 배워봅시다!"
   ]
  },
  {
   "cell_type": "markdown",
   "metadata": {},
   "source": [
    "## 💪 연습 문제\n",
    "\n",
    "### 문제: 장보기 리스트\n",
    "사용자가 입력한 물건들을 리스트에 저장하고,\n",
    "중복을 제거한 후 알파벳 순으로 정렬하세요."
   ]
  },
  {
   "cell_type": "code",
   "execution_count": null,
   "metadata": {},
   "outputs": [],
   "source": "# 💡 답안 예시:\nprint(\"🛒 장보기 리스트 만들기\")\nprint(\"물건을 입력하세요 (빈 줄 입력시 종료)\")\nprint(\"-\" * 40)\n\nshopping_list = []\n\nwhile True:\n    item = input(\"물건: \")\n    if item == \"\":  # 빈 줄이면 종료\n        break\n    shopping_list.append(item)\n    print(f\"✅ '{item}' 추가됨\")\n\nif not shopping_list:\n    print(\"❌ 입력된 물건이 없습니다.\")\nelse:\n    print(f\"\\n📝 입력된 물건들: {shopping_list}\")\n    print(f\"총 {len(shopping_list)}개 물건\")\n    \n    # 중복 제거 (set을 사용하면 순서가 바뀌므로 다른 방법 사용)\n    unique_items = []\n    for item in shopping_list:\n        if item not in unique_items:\n            unique_items.append(item)\n    \n    print(f\"\\n🧹 중복 제거 후: {unique_items}\")\n    print(f\"중복 제거 후 {len(unique_items)}개 물건\")\n    \n    # 알파벳 순 정렬 (한글도 정렬됨)\n    unique_items.sort()\n    print(f\"\\n📋 최종 장보기 리스트 (정렬됨): {unique_items}\")\n    \n    # 더 예쁘게 출력\n    print(\"\\n\" + \"=\"*30)\n    print(\"🛒 최종 장보기 리스트\")\n    print(\"=\"*30)\n    for i, item in enumerate(unique_items, 1):\n        print(f\"{i:2}. {item}\")\n    print(\"=\"*30)"
  }
 ],
 "metadata": {
  "kernelspec": {
   "display_name": "Python 3",
   "language": "python",
   "name": "python3"
  },
  "language_info": {
   "codemirror_mode": {
    "name": "ipython",
    "version": 3
   },
   "file_extension": ".py",
   "mimetype": "text/x-python",
   "name": "python",
   "nbconvert_exporter": "python",
   "pygments_lexer": "ipython3",
   "version": "3.8.0"
  }
 },
 "nbformat": 4,
 "nbformat_minor": 4
}