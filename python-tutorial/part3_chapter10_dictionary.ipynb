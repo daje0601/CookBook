{
 "cells": [
  {
   "cell_type": "markdown",
   "metadata": {},
   "source": [
    "# Chapter 10: 딕셔너리(Dictionary) - 이름표가 있는 상자\n",
    "\n",
    "## 🎯 이번 챕터의 목표\n",
    "- 키-값 쌍의 개념 이해하기\n",
    "- 딕셔너리 생성과 접근 방법 익히기\n",
    "- 딕셔너리 메서드 활용하기\n",
    "\n",
    "---\n",
    "\n",
    "## 🤔 인덱스 대신 이름으로 찾는다면?\n",
    "\n",
    "전화번호부에서 이름으로 찾듯이!"
   ]
  },
  {
   "cell_type": "code",
   "execution_count": null,
   "metadata": {},
   "outputs": [],
   "source": [
    "# 😰 리스트로는 불편해요\n",
    "names = [\"철수\", \"영희\", \"민수\"]\n",
    "phones = [\"010-1234-5678\", \"010-2345-6789\", \"010-3456-7890\"]\n",
    "\n",
    "# 영희의 번호를 찾으려면?\n",
    "index = names.index(\"영희\")\n",
    "print(f\"영희의 번호: {phones[index]}\")  # 복잡해!"
   ]
  },
  {
   "cell_type": "code",
   "execution_count": null,
   "metadata": {},
   "outputs": [],
   "source": [
    "# 😊 딕셔너리로 간단하게!\n",
    "phone_book = {\n",
    "    \"철수\": \"010-1234-5678\",\n",
    "    \"영희\": \"010-2345-6789\",\n",
    "    \"민수\": \"010-3456-7890\"\n",
    "}\n",
    "\n",
    "print(f\"영희의 번호: {phone_book['영희']}\")  # 바로 찾기!"
   ]
  },
  {
   "cell_type": "markdown",
   "metadata": {},
   "source": [
    "## 1️⃣ 딕셔너리 만들기와 접근하기"
   ]
  },
  {
   "cell_type": "code",
   "execution_count": null,
   "metadata": {},
   "outputs": [],
   "source": [
    "# 🎮 실습: 딕셔너리 생성\n",
    "\n",
    "# 중괄호와 콜론 사용\n",
    "student = {\n",
    "    \"name\": \"김철수\",\n",
    "    \"age\": 25,\n",
    "    \"grade\": \"A+\",\n",
    "    \"is_graduated\": False\n",
    "}\n",
    "print(f\"학생 정보: {student}\")\n",
    "\n",
    "# dict() 함수 사용\n",
    "scores = dict(math=90, english=85, science=92)\n",
    "print(f\"점수: {scores}\")\n",
    "\n",
    "# 빈 딕셔너리\n",
    "empty_dict = {}\n",
    "print(f\"빈 딕셔너리: {empty_dict}\")"
   ]
  },
  {
   "cell_type": "code",
   "execution_count": null,
   "metadata": {},
   "outputs": [],
   "source": [
    "# 🎮 실습: 값 접근하기\n",
    "person = {\n",
    "    \"name\": \"홍길동\",\n",
    "    \"age\": 30,\n",
    "    \"city\": \"서울\",\n",
    "    \"job\": \"개발자\"\n",
    "}\n",
    "\n",
    "# 대괄호로 접근\n",
    "print(f\"이름: {person['name']}\")\n",
    "print(f\"나이: {person['age']}\")\n",
    "\n",
    "# get() 메서드 (안전한 방법)\n",
    "print(f\"직업: {person.get('job')}\")\n",
    "print(f\"급여: {person.get('salary', '정보 없음')}\")  # 기본값 설정\n",
    "\n",
    "# 없는 키 접근 시\n",
    "try:\n",
    "    print(person['salary'])  # KeyError!\n",
    "except KeyError:\n",
    "    print(\"❌ KeyError: 'salary' 키가 없습니다\")"
   ]
  },
  {
   "cell_type": "markdown",
   "metadata": {},
   "source": [
    "## 2️⃣ 딕셔너리 수정하기"
   ]
  },
  {
   "cell_type": "code",
   "execution_count": null,
   "metadata": {},
   "outputs": [],
   "source": [
    "# 🎮 실습: 값 추가와 수정\n",
    "product = {\n",
    "    \"name\": \"노트북\",\n",
    "    \"price\": 1500000\n",
    "}\n",
    "print(f\"초기: {product}\")\n",
    "\n",
    "# 새 키-값 추가\n",
    "product[\"brand\"] = \"Samsung\"\n",
    "product[\"stock\"] = 10\n",
    "print(f\"추가 후: {product}\")\n",
    "\n",
    "# 기존 값 수정\n",
    "product[\"price\"] = 1400000  # 할인!\n",
    "product[\"stock\"] -= 1  # 판매\n",
    "print(f\"수정 후: {product}\")\n",
    "\n",
    "# update() 메서드로 여러 개 한 번에\n",
    "product.update({\n",
    "    \"color\": \"Silver\",\n",
    "    \"warranty\": \"2년\",\n",
    "    \"stock\": 8\n",
    "})\n",
    "print(f\"update 후: {product}\")"
   ]
  },
  {
   "cell_type": "code",
   "execution_count": null,
   "metadata": {},
   "outputs": [],
   "source": [
    "# 🎮 실습: 키-값 삭제\n",
    "user = {\n",
    "    \"id\": \"user123\",\n",
    "    \"password\": \"secret\",\n",
    "    \"email\": \"user@email.com\",\n",
    "    \"temp\": \"temporary\"\n",
    "}\n",
    "print(f\"초기: {user}\")\n",
    "\n",
    "# del로 삭제\n",
    "del user[\"temp\"]\n",
    "print(f\"del 후: {user}\")\n",
    "\n",
    "# pop()으로 삭제하고 값 받기\n",
    "password = user.pop(\"password\")\n",
    "print(f\"pop 후: {user}\")\n",
    "print(f\"삭제된 비밀번호: {password}\")\n",
    "\n",
    "# clear()로 모두 삭제\n",
    "user.clear()\n",
    "print(f\"clear 후: {user}\")"
   ]
  },
  {
   "cell_type": "markdown",
   "metadata": {},
   "source": [
    "## 3️⃣ 딕셔너리 메서드들"
   ]
  },
  {
   "cell_type": "code",
   "execution_count": null,
   "metadata": {},
   "outputs": [],
   "source": [
    "# 🎮 실습: keys(), values(), items()\n",
    "menu = {\n",
    "    \"아메리카노\": 4500,\n",
    "    \"라떼\": 5000,\n",
    "    \"카푸치노\": 5000,\n",
    "    \"마키아또\": 5500\n",
    "}\n",
    "\n",
    "# 키만 가져오기\n",
    "print(\"🍵 메뉴 목록:\")\n",
    "for drink in menu.keys():\n",
    "    print(f\"  - {drink}\")\n",
    "\n",
    "# 값만 가져오기\n",
    "print(f\"\\n💵 가격 목록: {list(menu.values())}\")\n",
    "print(f\"최저가: {min(menu.values())}원\")\n",
    "print(f\"최고가: {max(menu.values())}원\")\n",
    "\n",
    "# 키-값 쌍 가져오기\n",
    "print(\"\\n📝 전체 메뉴:\")\n",
    "for drink, price in menu.items():\n",
    "    print(f\"  {drink}: {price:,}원\")"
   ]
  },
  {
   "cell_type": "markdown",
   "metadata": {},
   "source": [
    "## 4️⃣ 중첩 딕셔너리"
   ]
  },
  {
   "cell_type": "code",
   "execution_count": null,
   "metadata": {},
   "outputs": [],
   "source": [
    "# 🎮 실습: 딕셔너리 안에 딕셔너리\n",
    "school = {\n",
    "    \"1반\": {\n",
    "        \"김철수\": {\"math\": 90, \"english\": 85},\n",
    "        \"이영희\": {\"math\": 95, \"english\": 90}\n",
    "    },\n",
    "    \"2반\": {\n",
    "        \"박민수\": {\"math\": 88, \"english\": 92},\n",
    "        \"최지훈\": {\"math\": 85, \"english\": 88}\n",
    "    }\n",
    "}\n",
    "\n",
    "# 중첩 접근\n",
    "print(f\"1반 김철수의 수학: {school['1반']['김철수']['math']}점\")\n",
    "\n",
    "# 전체 성적 출력\n",
    "for class_name, students in school.items():\n",
    "    print(f\"\\n{class_name}:\")\n",
    "    for student, scores in students.items():\n",
    "        avg = sum(scores.values()) / len(scores)\n",
    "        print(f\"  {student}: 평균 {avg:.1f}점\")"
   ]
  },
  {
   "cell_type": "markdown",
   "metadata": {},
   "source": [
    "## 5️⃣ Quiz 문제로 실력 테스트"
   ]
  },
  {
   "cell_type": "code",
   "execution_count": null,
   "metadata": {},
   "outputs": [],
   "source": [
    "# 🧩 Quiz (Quiz.md #80번 변형)\n",
    "# 다음 코드의 결과를 예측해보세요\n",
    "d = {'a': 1, 'b': 2}\n",
    "d2 = d\n",
    "d2['c'] = 3\n",
    "print(d)\n",
    "\n",
    "# 정답을 예측한 후 실행해보세요!\n",
    "# 힌트: 딕셔너리도 참조로 전달됩니다"
   ]
  },
  {
   "cell_type": "code",
   "execution_count": null,
   "metadata": {},
   "outputs": [],
   "source": [
    "# 🧩 Quiz: 딕셔너리 연산\n",
    "data = {\"x\": 10, \"y\": 20}\n",
    "\n",
    "# 다음 결과를 예측해보세요\n",
    "print(f\"'x' in data: {'x' in data}\")\n",
    "print(f\"10 in data: {10 in data}\")  # 값이 아닌 키를 검색\n",
    "print(f\"len(data): {len(data)}\")\n",
    "\n",
    "# 기본값 활용\n",
    "print(f\"z 값: {data.get('z', 0)}\")\n",
    "print(f\"x 값: {data.get('x', 0)}\")"
   ]
  },
  {
   "cell_type": "markdown",
   "metadata": {},
   "source": [
    "## 6️⃣ 실전 예제: 단어 빈도 분석"
   ]
  },
  {
   "cell_type": "code",
   "execution_count": null,
   "metadata": {},
   "outputs": [],
   "source": [
    "# 🎮 실습: 텍스트 분석\n",
    "print(\"📊 단어 빈도 분석기\")\n",
    "print(\"=\" * 40)\n",
    "\n",
    "text = input(\"문장을 입력하세요: \")\n",
    "\n",
    "# 단어별 빈도 계산\n",
    "word_count = {}\n",
    "words = text.lower().split()  # 소문자로 변환 후 분할\n",
    "\n",
    "for word in words:\n",
    "    # 방법 1: if-else 사용\n",
    "    # if word in word_count:\n",
    "    #     word_count[word] += 1\n",
    "    # else:\n",
    "    #     word_count[word] = 1\n",
    "    \n",
    "    # 방법 2: get() 메서드 활용\n",
    "    word_count[word] = word_count.get(word, 0) + 1\n",
    "\n",
    "# 결과 출력 (빈도순 정렬)\n",
    "print(\"\\n📊 단어 빈도:\")\n",
    "sorted_words = sorted(word_count.items(), key=lambda x: x[1], reverse=True)\n",
    "\n",
    "for word, count in sorted_words:\n",
    "    bar = \"█\" * count\n",
    "    print(f\"{word:15} {bar} ({count}회)\")"
   ]
  },
  {
   "cell_type": "markdown",
   "metadata": {},
   "source": [
    "## 7️⃣ 딕셔너리 컴프리헨션"
   ]
  },
  {
   "cell_type": "code",
   "execution_count": null,
   "metadata": {},
   "outputs": [],
   "source": [
    "# 🎮 실습: 딕셔너리 컴프리헨션\n",
    "\n",
    "# 기존 방법\n",
    "squares1 = {}\n",
    "for i in range(1, 6):\n",
    "    squares1[i] = i ** 2\n",
    "print(f\"기존 방법: {squares1}\")\n",
    "\n",
    "# 컴프리헨션\n",
    "squares2 = {i: i**2 for i in range(1, 6)}\n",
    "print(f\"컴프리헨션: {squares2}\")\n",
    "\n",
    "# 조건 추가\n",
    "even_squares = {i: i**2 for i in range(1, 11) if i % 2 == 0}\n",
    "print(f\"짝수 제곱: {even_squares}\")\n",
    "\n",
    "# 두 리스트를 딕셔너리로\n",
    "keys = ['a', 'b', 'c']\n",
    "values = [1, 2, 3]\n",
    "result = {k: v for k, v in zip(keys, values)}\n",
    "print(f\"두 리스트 결합: {result}\")"
   ]
  },
  {
   "cell_type": "markdown",
   "metadata": {},
   "source": [
    "## 8️⃣ 실전 예제: 상품 재고 관리"
   ]
  },
  {
   "cell_type": "code",
   "execution_count": null,
   "metadata": {},
   "outputs": [],
   "source": [
    "# 🎮 실습: 재고 관리 시스템\n",
    "print(\"📦 재고 관리 시스템\")\n",
    "print(\"=\" * 40)\n",
    "\n",
    "inventory = {\n",
    "    \"A001\": {\"name\": \"노트북\", \"price\": 1500000, \"stock\": 5},\n",
    "    \"A002\": {\"name\": \"마우스\", \"price\": 30000, \"stock\": 20},\n",
    "    \"A003\": {\"name\": \"키보드\", \"price\": 80000, \"stock\": 15}\n",
    "}\n",
    "\n",
    "def display_inventory():\n",
    "    print(\"\\n현재 재고:\")\n",
    "    print(\"-\" * 60)\n",
    "    print(f\"{'Code':<8} {'Name':<15} {'Price':>10} {'Stock':>8} {'Total':>12}\")\n",
    "    print(\"-\" * 60)\n",
    "    \n",
    "    total_value = 0\n",
    "    for code, item in inventory.items():\n",
    "        item_total = item['price'] * item['stock']\n",
    "        total_value += item_total\n",
    "        print(f\"{code:<8} {item['name']:<15} {item['price']:>10,} {item['stock']:>8} {item_total:>12,}\")\n",
    "    \n",
    "    print(\"-\" * 60)\n",
    "    print(f\"{'Total Value:':>46} {total_value:>12,}\")\n",
    "\n",
    "def sell_item(code, quantity):\n",
    "    if code in inventory:\n",
    "        if inventory[code]['stock'] >= quantity:\n",
    "            inventory[code]['stock'] -= quantity\n",
    "            print(f\"✅ {inventory[code]['name']} {quantity}개 판매 완료\")\n",
    "        else:\n",
    "            print(f\"❌ 재고 부족 (현재: {inventory[code]['stock']}개)\")\n",
    "    else:\n",
    "        print(f\"❌ 존재하지 않는 상품 코드: {code}\")\n",
    "\n",
    "# 시스템 사용\n",
    "display_inventory()\n",
    "print(\"\\n판매 처리:\")\n",
    "sell_item(\"A001\", 2)\n",
    "sell_item(\"A002\", 5)\n",
    "display_inventory()"
   ]
  },
  {
   "cell_type": "markdown",
   "metadata": {},
   "source": [
    "## 🎯 이번 챕터 정리\n",
    "\n",
    "### ✅ 배운 내용\n",
    "1. **딕셔너리** - 키-값 쌍으로 데이터 저장\n",
    "2. **접근** - `dict[key]` 또는 `dict.get(key)`\n",
    "3. **메서드** - keys(), values(), items()\n",
    "4. **중첩** - 딕셔너리 안에 딕셔너리\n",
    "\n",
    "### 💡 핵심 포인트\n",
    "- 중괄호 `{}`와 콜론 `:`으로 생성\n",
    "- **키로 빠르게 검색** (O(1))\n",
    "- 키는 **중복 불가**\n",
    "- 키는 **불변 타입**만 가능\n",
    "\n",
    "### 🤔 언제 사용?\n",
    "- **이름-값 매핑**이 필요한 경우\n",
    "- **빠른 검색**이 필요한 경우\n",
    "- **계층적 데이터** 표현\n",
    "\n",
    "### 🏁 Part 3 완료!\n",
    "리스트, 튜플, 집합, 딕셔너리를 모두 배웠습니다.\n",
    "여러 데이터를 다루는 방법을 익혔어요!\n",
    "\n",
    "### ➡️ 다음 챕터에서는...\n",
    "Part 4로 넘어가 **반복문(for)**을 배워봅시다!"
   ]
  },
  {
   "cell_type": "code",
   "source": "# 🎮 실습: JSON 파일로 저장하고 불러오기\n\n# 학생 데이터를 JSON 파일로 저장\nstudents_data = {\n    \"class_name\": \"2학년 1반\",\n    \"teacher\": \"김선생님\",\n    \"students\": [\n        {\"name\": \"김철수\", \"age\": 17, \"subjects\": {\"수학\": 90, \"영어\": 85}},\n        {\"name\": \"이영희\", \"age\": 16, \"subjects\": {\"수학\": 95, \"영어\": 90}},\n        {\"name\": \"박민수\", \"age\": 17, \"subjects\": {\"수학\": 88, \"영어\": 92}}\n    ]\n}\n\n# JSON 파일로 저장\nwith open('students.json', 'w', encoding='utf-8') as file:\n    json.dump(students_data, file, ensure_ascii=False, indent=2)\n\nprint(\"✅ students.json 파일로 저장 완료!\")\n\n# JSON 파일에서 불러오기\nwith open('students.json', 'r', encoding='utf-8') as file:\n    loaded_data = json.load(file)\n\nprint(f\"\\n📖 불러온 데이터:\")\nprint(f\"클래스: {loaded_data['class_name']}\")\nprint(f\"담임: {loaded_data['teacher']}\")\nprint(f\"학생 수: {len(loaded_data['students'])}명\")\n\n# 학생별 평균 계산\nfor student in loaded_data['students']:\n    subjects = student['subjects']\n    average = sum(subjects.values()) / len(subjects)\n    print(f\"  {student['name']}: 평균 {average:.1f}점\")\n\nprint(\"\\n💡 이렇게 JSON으로 데이터를 파일에 저장하고 불러올 수 있어요!\")",
   "metadata": {},
   "execution_count": null,
   "outputs": []
  },
  {
   "cell_type": "code",
   "source": "# 💡 답안 예시:\nphone_book = {}\n\ndef display_menu():\n    print(\"\\n📞 전화번호부 관리\")\n    print(\"=\" * 30)\n    print(\"1. 연락처 추가\")\n    print(\"2. 연락처 검색\")\n    print(\"3. 전체 연락처 보기\")\n    print(\"4. 연락처 삭제\")\n    print(\"5. 종료\")\n    return input(\"선택 (1-5): \")\n\ndef add_contact():\n    name = input(\"이름: \")\n    phone = input(\"전화번호: \")\n    \n    if name in phone_book:\n        choice = input(f\"'{name}'이 이미 있습니다. 수정하시겠습니까? (y/n): \")\n        if choice.lower() != 'y':\n            return\n    \n    phone_book[name] = phone\n    print(f\"✅ {name}님의 연락처가 저장되었습니다.\")\n\ndef search_contact():\n    name = input(\"검색할 이름: \")\n    \n    if name in phone_book:\n        print(f\"📞 {name}: {phone_book[name]}\")\n    else:\n        print(f\"❌ '{name}'을(를) 찾을 수 없습니다.\")\n\ndef show_all_contacts():\n    if not phone_book:\n        print(\"❌ 저장된 연락처가 없습니다.\")\n        return\n    \n    print(f\"\\n📋 전체 연락처 ({len(phone_book)}개)\")\n    print(\"-\" * 30)\n    \n    # 이름 순으로 정렬\n    for name in sorted(phone_book.keys()):\n        print(f\"📞 {name}: {phone_book[name]}\")\n\ndef delete_contact():\n    name = input(\"삭제할 이름: \")\n    \n    if name in phone_book:\n        del phone_book[name]\n        print(f\"✅ {name}님의 연락처가 삭제되었습니다.\")\n    else:\n        print(f\"❌ '{name}'을(를) 찾을 수 없습니다.\")\n\n# 프로그램 실행\nwhile True:\n    choice = display_menu()\n    \n    if choice == \"1\":\n        add_contact()\n    elif choice == \"2\":\n        search_contact()\n    elif choice == \"3\":\n        show_all_contacts()\n    elif choice == \"4\":\n        delete_contact()\n    elif choice == \"5\":\n        print(\"👋 프로그램을 종료합니다.\")\n        break\n    else:\n        print(\"❌ 올바른 번호를 입력하세요.\")",
   "metadata": {},
   "execution_count": null,
   "outputs": []
  },
  {
   "cell_type": "markdown",
   "source": "## 🌐 딕셔너리와 JSON의 관계\n\n### JSON이란?\n**JSON (JavaScript Object Notation)**은 데이터를 주고받을 때 사용하는 표준 형식입니다.\n\n- 📱 **앱 ↔ 서버** 통신\n- 🌐 **웹 API** 데이터 교환  \n- 📄 **설정 파일** 저장\n- 💾 **데이터 저장**\n\n### 딕셔너리 vs JSON 비교\n\n**Python 딕셔너리:**\n```python\nuser = {\"name\": \"홍길동\", \"age\": 30, \"city\": \"서울\"}\n```\n\n**JSON 형식:**\n```json\n{\"name\": \"홍길동\", \"age\": 30, \"city\": \"서울\"}\n```\n\n거의 같아 보이지만 미묘한 차이가 있어요!",
   "metadata": {}
  },
  {
   "cell_type": "markdown",
   "metadata": {},
   "source": [
    "## 💪 연습 문제\n",
    "\n",
    "### 문제: 전화번호부 관리\n",
    "사용자가 이름과 전화번호를 입력하면 저장하고,\n",
    "이름으로 검색할 수 있는 프로그램을 만드세요."
   ]
  },
  {
   "cell_type": "code",
   "execution_count": null,
   "metadata": {},
   "outputs": [],
   "source": [
    "# 예시:\n",
    "# 1. 추가\n",
    "# 2. 검색\n",
    "# 3. 전체 보기\n",
    "# 4. 종료\n",
    "# 선택: 1\n",
    "# 이름: 홍길동\n",
    "# 전화번호: 010-1234-5678\n",
    "# ✅ 저장되었습니다\n",
    "\n",
    "# 여기에 코드 작성\n"
   ]
  }
 ],
 "metadata": {
  "kernelspec": {
   "display_name": "Python 3",
   "language": "python",
   "name": "python3"
  },
  "language_info": {
   "codemirror_mode": {
    "name": "ipython",
    "version": 3
   },
   "file_extension": ".py",
   "mimetype": "text/x-python",
   "name": "python",
   "nbconvert_exporter": "python",
   "pygments_lexer": "ipython3",
   "version": "3.8.0"
  }
 },
 "nbformat": 4,
 "nbformat_minor": 4
}