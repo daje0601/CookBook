{
  "cells": [
    {
      "cell_type": "markdown",
      "metadata": {},
      "source": [
        "# Chapter 11: for 반복문 - 반복을 자동화하기\n",
        "\n",
        "## 🎯 이번 챕터의 목표\n",
        "- for 반복문의 필요성 이해하기\n",
        "- range()와 함께 사용하기\n",
        "- 컨테이너 순회하기\n",
        "\n",
        "---\n",
        "\n",
        "## 🤔 100번 반복해야 한다면?\n",
        "\n",
        "학생 30명의 점수를 출력하려면?  \n",
        "1부터 100까지 더하려면?"
      ]
    },
    {
      "cell_type": "code",
      "execution_count": null,
      "metadata": {},
      "outputs": [],
      "source": [
        "# 😰 반복문 없이는...\n",
        "print(\"1\")\n",
        "print(\"2\")\n",
        "print(\"3\")\n",
        "# ... 100번을 다 써야 하나요?!"
      ]
    },
    {
      "cell_type": "code",
      "execution_count": null,
      "metadata": {},
      "outputs": [],
      "source": [
        "# 😊 for 반복문으로 간단하게!\n",
        "for i in range(1, 11):\n",
        "    print(i, end=\" \")\n",
        "\n",
        "print(\"\\n10번 출력 완료!\")"
      ]
    },
    {
      "cell_type": "markdown",
      "metadata": {},
      "source": [
        "## 1️⃣ for문의 기본 구조"
      ]
    },
    {
      "cell_type": "code",
      "execution_count": null,
      "metadata": {},
      "outputs": [],
      "source": [
        "# 🎮 실습: 기본 for문\n",
        "\n",
        "# 리스트 순회\n",
        "fruits = [\"사과\", \"바나나\", \"오렌지\"]\n",
        "\n",
        "print(\"🍎 과일 목록:\")\n",
        "for fruit in fruits:  # 리스트의 각 요소를 하나씩\n",
        "    print(f\"  - {fruit}\")\n",
        "\n",
        "print(\"\\n🎉 for문 종료 후\")"
      ]
    },
    {
      "cell_type": "code",
      "execution_count": null,
      "metadata": {},
      "outputs": [],
      "source": [
        "# 🎮 실습: 문자열 순회\n",
        "word = \"Python\"\n",
        "\n",
        "print(\"문자 하나씩 출력:\")\n",
        "for char in word:\n",
        "    print(f\"[{char}]\", end=\" \")\n",
        "\n",
        "print(\"\\n\\n세로로 출력:\")\n",
        "for char in word:\n",
        "    print(char)"
      ]
    },
    {
      "cell_type": "markdown",
      "metadata": {},
      "source": [
        "## 2️⃣ range() 함수 활용하기"
      ]
    },
    {
      "cell_type": "code",
      "execution_count": null,
      "metadata": {},
      "outputs": [],
      "source": [
        "# 🎮 실습: range() 기본\n",
        "\n",
        "# range(stop): 0부터 stop-1까지\n",
        "print(\"range(5):\", end=\" \")\n",
        "for i in range(5):\n",
        "    print(i, end=\" \")\n",
        "\n",
        "# range(start, stop): start부터 stop-1까지\n",
        "print(\"\\n\\nrange(2, 7):\", end=\" \")\n",
        "for i in range(2, 7):\n",
        "    print(i, end=\" \")\n",
        "\n",
        "# range(start, stop, step): step만큼 건너뛰며\n",
        "print(\"\\n\\nrange(0, 10, 2):\", end=\" \")\n",
        "for i in range(0, 10, 2):\n",
        "    print(i, end=\" \")\n",
        "\n",
        "# 거꾸로 세기\n",
        "print(\"\\n\\nrange(10, 0, -1):\", end=\" \")\n",
        "for i in range(10, 0, -1):\n",
        "    print(i, end=\" \")\n",
        "print(\"\\n🚀 발사!\")"
      ]
    },
    {
      "cell_type": "code",
      "execution_count": null,
      "metadata": {},
      "outputs": [],
      "source": [
        "# 🎮 실습: range() 활용\n",
        "\n",
        "# 구구단 출력\n",
        "num = 5\n",
        "print(f\"📢 {num}단:\")\n",
        "for i in range(1, 10):\n",
        "    print(f\"{num} x {i} = {num * i}\")\n",
        "\n",
        "print(\"\\n\" + \"=\" * 20)\n",
        "\n",
        "# 1부터 n까지의 합\n",
        "n = 10\n",
        "total = 0\n",
        "for i in range(1, n + 1):\n",
        "    total += i\n",
        "print(f\"1부터 {n}까지의 합: {total}\")"
      ]
    },
    {
      "cell_type": "markdown",
      "metadata": {},
      "source": [
        "## 3️⃣ 리스트와 인덱스 함께 사용하기"
      ]
    },
    {
      "cell_type": "code",
      "execution_count": null,
      "metadata": {},
      "outputs": [],
      "source": [
        "# 🎮 실습: 인덱스가 필요한 경우\n",
        "\n",
        "scores = [85, 92, 78, 95, 88]\n",
        "\n",
        "# 방법 1: range(len())\n",
        "print(\"📊 성적표 (방법 1):\")\n",
        "for i in range(len(scores)):\n",
        "    print(f\"{i+1}번 학생: {scores[i]}점\")\n",
        "\n",
        "print(\"\\n\" + \"=\" * 20 + \"\\n\")\n",
        "\n",
        "# 방법 2: enumerate() - 추천!\n",
        "print(\"📊 성적표 (방법 2):\")\n",
        "for index, score in enumerate(scores, start=1):\n",
        "    print(f\"{index}번 학생: {score}점\")\n",
        "    if score >= 90:\n",
        "        print(\"  → 🏆 우수!\")"
      ]
    },
    {
      "cell_type": "markdown",
      "metadata": {},
      "source": [
        "## 4️⃣ 중첩 for문"
      ]
    },
    {
      "cell_type": "code",
      "execution_count": null,
      "metadata": {},
      "outputs": [],
      "source": [
        "# 🎮 실습: 이중 for문\n",
        "\n",
        "# 별 찍기\n",
        "print(\"⭐ 별 트리:\")\n",
        "for i in range(1, 6):\n",
        "    for j in range(i):\n",
        "        print(\"★\", end=\"\")\n",
        "    print()  # 줄바꿈\n",
        "\n",
        "print(\"\\n\" + \"=\" * 20 + \"\\n\")\n",
        "\n",
        "# 구구단 전체\n",
        "print(\"📢 구구단 2~3단:\")\n",
        "for i in range(2, 4):\n",
        "    print(f\"\\n[{i}단]\")\n",
        "    for j in range(1, 10):\n",
        "        print(f\"{i} x {j} = {i*j:2}\", end=\"  \")\n",
        "        if j % 3 == 0:  # 3개씩 줄바꿈\n",
        "            print()"
      ]
    },
    {
      "cell_type": "markdown",
      "metadata": {},
      "source": [
        "## 5️⃣ 딕셔너리 순회하기"
      ]
    },
    {
      "cell_type": "code",
      "execution_count": null,
      "metadata": {},
      "outputs": [],
      "source": [
        "# 🎮 실습: 딕셔너리와 for문\n",
        "\n",
        "student_scores = {\n",
        "    \"김철수\": 85,\n",
        "    \"이영희\": 92,\n",
        "    \"박민수\": 78,\n",
        "    \"최지훈\": 95\n",
        "}\n",
        "\n",
        "# 키만 순회\n",
        "print(\"👥 학생 명단:\")\n",
        "for name in student_scores:\n",
        "    print(f\"  - {name}\")\n",
        "\n",
        "print(\"\\n\" + \"=\" * 30 + \"\\n\")\n",
        "\n",
        "# 키와 값 함께 순회\n",
        "print(\"📊 성적표:\")\n",
        "for name, score in student_scores.items():\n",
        "    grade = \"A\" if score >= 90 else \"B\" if score >= 80 else \"C\"\n",
        "    print(f\"{name}: {score}점 ({grade})\")\n",
        "\n",
        "# 평균 계산\n",
        "total = sum(student_scores.values())\n",
        "avg = total / len(student_scores)\n",
        "print(f\"\\n평균: {avg:.1f}점\")"
      ]
    },
    {
      "cell_type": "markdown",
      "metadata": {},
      "source": [
        "## 6️⃣ Quiz 문제로 실력 테스트"
      ]
    },
    {
      "cell_type": "code",
      "execution_count": null,
      "metadata": {},
      "outputs": [],
      "source": [
        "# 🧩 Quiz (Quiz.md #30번 변형)\n",
        "# 다음 코드의 결과를 예측해보세요\n",
        "for i in range(3):\n",
        "    print(i, end=\" \")\n",
        "else:\n",
        "    print(\"Done\")\n",
        "\n",
        "# 정답을 예측한 후 실행해보세요!\n",
        "# 힌트: for-else는 정상 종료 시 실행"
      ]
    },
    {
      "cell_type": "code",
      "execution_count": null,
      "metadata": {},
      "outputs": [],
      "source": [
        "# 🧩 Quiz: 중첩 반복\n",
        "# 다음 코드의 출력을 예측해보세요\n",
        "count = 0\n",
        "for i in range(2):\n",
        "    for j in range(3):\n",
        "        count += 1\n",
        "        print(f\"({i},{j})\", end=\" \")\n",
        "\n",
        "print(f\"\\n총 {count}번 실행\")"
      ]
    },
    {
      "cell_type": "markdown",
      "metadata": {},
      "source": [
        "## 7️⃣ 실전 예제: 성적 처리 시스템"
      ]
    },
    {
      "cell_type": "code",
      "execution_count": null,
      "metadata": {},
      "outputs": [],
      "source": [
        "# 🎮 실습: 종합 성적 처리\n",
        "print(\"🎓 성적 처리 시스템\")\n",
        "print(\"=\" * 40)\n",
        "\n",
        "students = [\n",
        "    {\"이름\": \"김철수\", \"국어\": 85, \"수학\": 90, \"영어\": 88},\n",
        "    {\"이름\": \"이영희\", \"국어\": 92, \"수학\": 88, \"영어\": 95},\n",
        "    {\"이름\": \"박민수\", \"국어\": 78, \"수학\": 85, \"영어\": 82},\n",
        "    {\"이름\": \"최지훈\", \"국어\": 95, \"수학\": 92, \"영어\": 90},\n",
        "]\n",
        "\n",
        "# 각 학생의 성적 처리\n",
        "print(\"📊 개인별 성적:\")\n",
        "print(\"-\" * 40)\n",
        "\n",
        "for i, student in enumerate(students, 1):\n",
        "    name = student[\"이름\"]\n",
        "    total = student[\"국어\"] + student[\"수학\"] + student[\"영어\"]\n",
        "    avg = total / 3\n",
        "    \n",
        "    print(f\"{i}. {name}\")\n",
        "    print(f\"   국어: {student['국어']}점, 수학: {student['수학']}점, 영어: {student['영어']}점\")\n",
        "    print(f\"   총점: {total}점, 평균: {avg:.1f}점\")\n",
        "    \n",
        "    # 등급 판정\n",
        "    if avg >= 90:\n",
        "        grade = \"A\"\n",
        "        emoji = \"🏆\"\n",
        "    elif avg >= 80:\n",
        "        grade = \"B\"\n",
        "        emoji = \"😊\"\n",
        "    else:\n",
        "        grade = \"C\"\n",
        "        emoji = \"💪\"\n",
        "    \n",
        "    print(f\"   등급: {grade} {emoji}\")\n",
        "    print()\n",
        "\n",
        "# 과목별 평균\n",
        "print(\"-\" * 40)\n",
        "print(\"📈 과목별 평균:\")\n",
        "\n",
        "subjects = [\"국어\", \"수학\", \"영어\"]\n",
        "for subject in subjects:\n",
        "    total = 0\n",
        "    for student in students:\n",
        "        total += student[subject]\n",
        "    avg = total / len(students)\n",
        "    print(f\"  {subject}: {avg:.1f}점\")"
      ]
    },
    {
      "cell_type": "markdown",
      "metadata": {},
      "source": [
        "## 8️⃣ 리스트 컴프리헨션과 for"
      ]
    },
    {
      "cell_type": "code",
      "execution_count": null,
      "metadata": {},
      "outputs": [],
      "source": [
        "# 🎮 실습: 리스트 컴프리헨션\n",
        "\n",
        "# 기존 방법\n",
        "squares1 = []\n",
        "for i in range(1, 6):\n",
        "    squares1.append(i ** 2)\n",
        "print(f\"기존 방법: {squares1}\")\n",
        "\n",
        "# 컴프리헨션 (한 줄로!)\n",
        "squares2 = [i ** 2 for i in range(1, 6)]\n",
        "print(f\"컴프리헨션: {squares2}\")\n",
        "\n",
        "# 조건 추가\n",
        "evens = [i for i in range(1, 11) if i % 2 == 0]\n",
        "print(f\"짝수만: {evens}\")\n",
        "\n",
        "# 문자열 처리\n",
        "words = [\"apple\", \"banana\", \"cherry\"]\n",
        "lengths = [len(word) for word in words]\n",
        "print(f\"단어 길이: {lengths}\")\n",
        "\n",
        "# 대문자 변환\n",
        "uppercase = [word.upper() for word in words]\n",
        "print(f\"대문자: {uppercase}\")"
      ]
    },
    {
      "cell_type": "markdown",
      "metadata": {},
      "source": [
        "## 🎯 이번 챕터 정리\n",
        "\n",
        "### ✅ 배운 내용\n",
        "1. **for문** - 컨테이너를 순회하는 반복문\n",
        "2. **range()** - 숫자 시퀀스 생성\n",
        "3. **enumerate()** - 인덱스와 값 함께 반환\n",
        "4. **중첩 for** - 이중, 삼중 반복\n",
        "5. **컴프리헨션** - 한 줄로 리스트 생성\n",
        "\n",
        "### 💡 핵심 포인트\n",
        "- for는 **횟수가 정해진** 반복\n",
        "- **컨테이너**의 모든 요소 순회\n",
        "- range(start, stop, step) 기억\n",
        "- 딕셔너리는 .items() 사용\n",
        "\n",
        "### ➡️ 다음 챕터에서는...\n",
        "횟수가 정해지지 않은 **while 반복문**을 배워봅시다!"
      ]
    },
    {
      "cell_type": "markdown",
      "metadata": {},
      "source": [
        "## 💪 연습 문제\n",
        "\n",
        "### 문제: 소수 찾기\n",
        "1부터 50까지의 수 중에서 모든 소수를 찾아 출력하세요."
      ]
    },
    {
      "cell_type": "code",
      "execution_count": null,
      "metadata": {},
      "outputs": [],
      "source": [
        "# 예시 출력:\n",
        "# 소수: 2, 3, 5, 7, 11, 13, 17, 19, 23, 29, 31, 37, 41, 43, 47\n",
        "# 총 15개\n",
        "\n",
        "# 여기에 코드 작성\n"
      ]
    }
  ],
  "metadata": {
    "kernelspec": {
      "display_name": "Python 3",
      "language": "python",
      "name": "python3"
    },
    "language_info": {
      "codemirror_mode": {
        "name": "ipython",
        "version": 3
      },
      "file_extension": ".py",
      "mimetype": "text/x-python",
      "name": "python",
      "nbconvert_exporter": "python",
      "pygments_lexer": "ipython3",
      "version": "3.8.0"
    }
  },
  "nbformat": 4,
  "nbformat_minor": 4
}