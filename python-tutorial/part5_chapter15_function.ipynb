{
 "cells": [
  {
   "cell_type": "markdown",
   "metadata": {},
   "source": [
    "# Chapter 15: 함수(Function) - 코드 재사용하기\n",
    "\n",
    "## 🎯 이번 챕터의 목표\n",
    "- 함수의 필요성 이해하기\n",
    "- 함수 정의하고 호출하기\n",
    "- 기본 함수 만들기\n",
    "\n",
    "---\n",
    "\n",
    "## 🤔 같은 코드를 반복해서 써야 한다면?\n",
    "\n",
    "인사말을 100번 출력하려면?  \n",
    "BMI 계산을 여러 사람에게 해주려면?"
   ]
  },
  {
   "cell_type": "code",
   "execution_count": null,
   "metadata": {},
   "outputs": [],
   "source": [
    "# 😰 함수 없이는...\n",
    "# 철수 BMI\n",
    "height1 = 175\n",
    "weight1 = 70\n",
    "bmi1 = weight1 / ((height1/100) ** 2)\n",
    "print(f\"철수 BMI: {bmi1:.1f}\")\n",
    "\n",
    "# 영희 BMI (또 같은 코드!)\n",
    "height2 = 160\n",
    "weight2 = 55\n",
    "bmi2 = weight2 / ((height2/100) ** 2)\n",
    "print(f\"영희 BMI: {bmi2:.1f}\")\n",
    "\n",
    "# 민수 BMI (또 같은 코드!!)\n",
    "# ..."
   ]
  },
  {
   "cell_type": "code",
   "execution_count": null,
   "metadata": {},
   "outputs": [],
   "source": [
    "# 😊 함수로 해결!\n",
    "def calculate_bmi(height, weight):\n",
    "    bmi = weight / ((height/100) ** 2)\n",
    "    return bmi\n",
    "\n",
    "# 이제 간단!\n",
    "print(f\"철수 BMI: {calculate_bmi(175, 70):.1f}\")\n",
    "print(f\"영희 BMI: {calculate_bmi(160, 55):.1f}\")\n",
    "print(f\"민수 BMI: {calculate_bmi(180, 75):.1f}\")"
   ]
  },
  {
   "cell_type": "markdown",
   "metadata": {},
   "source": [
    "## 1️⃣ 함수의 기본 구조"
   ]
  },
  {
   "cell_type": "code",
   "execution_count": null,
   "metadata": {},
   "outputs": [],
   "source": [
    "# 🎮 실습: 가장 단순한 함수\n",
    "\n",
    "# 함수 정의\n",
    "def greet():\n",
    "    print(\"👋 안녕하세요!\")\n",
    "    print(\"파이썬 프로그래밍에 오신 것을 환영합니다!\")\n",
    "\n",
    "# 함수 호출\n",
    "greet()\n",
    "print(\"-\" * 30)\n",
    "greet()  # 몇 번이든 호출 가능!"
   ]
  },
  {
   "cell_type": "code",
   "execution_count": null,
   "metadata": {},
   "outputs": [],
   "source": [
    "# 🎮 실습: 함수의 구성 요소\n",
    "\n",
    "def function_name():  # 함수 이름\n",
    "    \"\"\"이것은 함수 설명입니다 (docstring)\"\"\"\n",
    "    # 함수 몸체 (body)\n",
    "    print(\"함수가 실행되었습니다!\")\n",
    "    # 들여쓰기 필수!\n",
    "\n",
    "# 함수 호출\n",
    "function_name()\n",
    "\n",
    "# 함수 설명 보기\n",
    "help(function_name)"
   ]
  },
  {
   "cell_type": "markdown",
   "metadata": {},
   "source": [
    "## 2️⃣ 매개변수(Parameter) 사용하기"
   ]
  },
  {
   "cell_type": "code",
   "execution_count": null,
   "metadata": {},
   "outputs": [],
   "source": [
    "# 🎮 실습: 매개변수가 있는 함수\n",
    "\n",
    "def greet_user(name):  # name은 매개변수\n",
    "    print(f\"👋 안녕하세요, {name}님!\")\n",
    "\n",
    "# 호출 시 인자 전달\n",
    "greet_user(\"철수\")\n",
    "greet_user(\"영희\")\n",
    "\n",
    "# 변수를 전달해도 OK\n",
    "user_name = \"민수\"\n",
    "greet_user(user_name)"
   ]
  },
  {
   "cell_type": "code",
   "execution_count": null,
   "metadata": {},
   "outputs": [],
   "source": [
    "# 🎮 실습: 여러 매개변수\n",
    "\n",
    "def introduce(name, age, city):\n",
    "    print(f\"👤 자기소개\")\n",
    "    print(f\"  이름: {name}\")\n",
    "    print(f\"  나이: {age}살\")\n",
    "    print(f\"  거주지: {city}\")\n",
    "    print()\n",
    "\n",
    "# 순서대로 전달\n",
    "introduce(\"김철수\", 25, \"서울\")\n",
    "introduce(\"이영희\", 28, \"부산\")"
   ]
  },
  {
   "cell_type": "markdown",
   "metadata": {},
   "source": [
    "## 3️⃣ return - 값 반환하기"
   ]
  },
  {
   "cell_type": "code",
   "execution_count": null,
   "metadata": {},
   "outputs": [],
   "source": [
    "# 🎮 실습: return이 있는 함수\n",
    "\n",
    "def add(a, b):\n",
    "    result = a + b\n",
    "    return result  # 값을 반환\n",
    "\n",
    "# 반환값 받기\n",
    "sum_result = add(10, 20)\n",
    "print(f\"결과: {sum_result}\")\n",
    "\n",
    "# 바로 사용도 가능\n",
    "print(f\"5 + 3 = {add(5, 3)}\")\n",
    "\n",
    "# 계산에 활용\n",
    "total = add(100, 200) + add(300, 400)\n",
    "print(f\"합계: {total}\")"
   ]
  },
  {
   "cell_type": "code",
   "execution_count": null,
   "metadata": {},
   "outputs": [],
   "source": [
    "# 🎮 실습: return vs print\n",
    "\n",
    "# print만 하는 함수\n",
    "def show_result(x, y):\n",
    "    print(f\"{x} + {y} = {x + y}\")\n",
    "    # return이 없으면 None 반환\n",
    "\n",
    "# return하는 함수\n",
    "def get_result(x, y):\n",
    "    return x + y\n",
    "\n",
    "# 차이점\n",
    "result1 = show_result(10, 20)  # 출력만 하고 None 반환\n",
    "result2 = get_result(10, 20)   # 값을 반환\n",
    "\n",
    "print(f\"\\nresult1: {result1}\")  # None\n",
    "print(f\"result2: {result2}\")    # 30\n",
    "\n",
    "# return이 있어야 값을 활용 가능\n",
    "if get_result(5, 5) > 8:\n",
    "    print(\"합이 8보다 큽니다!\")   "
   ]
  },
  {
   "cell_type": "markdown",
   "metadata": {},
   "source": [
    "## 4️⃣ 실전 함수 만들기"
   ]
  },
  {
   "cell_type": "code",
   "execution_count": null,
   "metadata": {},
   "outputs": [],
   "source": [
    "# 🎮 실습: 온도 변환 함수\n",
    "\n",
    "def celsius_to_fahrenheit(celsius):\n",
    "    \"\"\"섭씨를 화씨로 변환\"\"\"\n",
    "    fahrenheit = (celsius * 9/5) + 32\n",
    "    return fahrenheit\n",
    "\n",
    "def fahrenheit_to_celsius(fahrenheit):\n",
    "    \"\"\"화씨를 섭씨로 변환\"\"\"\n",
    "    celsius = (fahrenheit - 32) * 5/9\n",
    "    return celsius\n",
    "\n",
    "# 사용 예시\n",
    "print(\"🌡️ 온도 변환기\")\n",
    "print(\"-\" * 30)\n",
    "\n",
    "temp_c = 25\n",
    "temp_f = celsius_to_fahrenheit(temp_c)\n",
    "print(f\"{temp_c}°C = {temp_f:.1f}°F\")\n",
    "\n",
    "temp_f = 86\n",
    "temp_c = fahrenheit_to_celsius(temp_f)\n",
    "print(f\"{temp_f}°F = {temp_c:.1f}°C\")"
   ]
  },
  {
   "cell_type": "code",
   "execution_count": null,
   "metadata": {},
   "outputs": [],
   "source": [
    "# 🎮 실습: 등급 판정 함수\n",
    "\n",
    "def get_grade(score):\n",
    "    \"\"\"점수를 입력받아 등급을 반환\"\"\"\n",
    "    if score >= 90:\n",
    "        return \"A\"\n",
    "    elif score >= 80:\n",
    "        return \"B\"\n",
    "    elif score >= 70:\n",
    "        return \"C\"\n",
    "    elif score >= 60:\n",
    "        return \"D\"\n",
    "    else:\n",
    "        return \"F\"\n",
    "\n",
    "# 테스트\n",
    "test_scores = [95, 82, 77, 65, 55]\n",
    "\n",
    "print(\"📊 성적 처리\")\n",
    "print(\"-\" * 30)\n",
    "\n",
    "for score in test_scores:\n",
    "    grade = get_grade(score)\n",
    "    emoji = \"🏆\" if grade == \"A\" else \"😊\" if grade in \"BC\" else \"😢\"\n",
    "    print(f\"{score}점 → {grade}등급 {emoji}\")"
   ]
  },
  {
   "cell_type": "markdown",
   "metadata": {},
   "source": [
    "## 5️⃣ 여러 값 반환하기"
   ]
  },
  {
   "cell_type": "code",
   "execution_count": null,
   "metadata": {},
   "outputs": [],
   "source": [
    "# 🎮 실습: 여러 값 반환\n",
    "\n",
    "def calculate_stats(numbers):\n",
    "    \"\"\"리스트의 통계 정보 반환\"\"\"\n",
    "    total = sum(numbers)\n",
    "    average = total / len(numbers)\n",
    "    maximum = max(numbers)\n",
    "    minimum = min(numbers)\n",
    "    \n",
    "    return total, average, maximum, minimum  # 튜플로 반환\n",
    "\n",
    "# 사용\n",
    "scores = [85, 92, 78, 95, 88]\n",
    "\n",
    "# 튜플로 받기\n",
    "result = calculate_stats(scores)\n",
    "print(f\"결과 (튜플): {result}\")\n",
    "\n",
    "# 언패킹\n",
    "total, avg, max_val, min_val = calculate_stats(scores)\n",
    "print(f\"\\n📈 통계 정보\")\n",
    "print(f\"  합계: {total}\")\n",
    "print(f\"  평균: {avg:.1f}\")\n",
    "print(f\"  최고: {max_val}\")\n",
    "print(f\"  최저: {min_val}\")"
   ]
  },
  {
   "cell_type": "markdown",
   "metadata": {},
   "source": [
    "## 6️⃣ Quiz 문제로 실력 테스트"
   ]
  },
  {
   "cell_type": "code",
   "execution_count": null,
   "metadata": {},
   "outputs": [],
   "source": [
    "# 🧩 Quiz (Quiz.md #35번 변형)\n",
    "# 다음 코드의 결과를 예측해보세요\n",
    "def test():\n",
    "    print(\"A\")\n",
    "    return \"B\"\n",
    "    print(\"C\")  # 실행될까요?\n",
    "\n",
    "result = test()\n",
    "print(result)\n",
    "\n",
    "# 정답을 예측한 후 실행해보세요!\n",
    "# 힌트: return 후의 코드는?"
   ]
  },
  {
   "cell_type": "code",
   "execution_count": null,
   "metadata": {},
   "outputs": [],
   "source": [
    "# 🧩 Quiz: 함수 호출\n",
    "def multiply(a, b):\n",
    "    return a * b\n",
    "\n",
    "# 다음 결과를 예측해보세요\n",
    "print(multiply(3, 4))\n",
    "print(multiply(multiply(2, 3), 4))\n",
    "\n",
    "x = multiply(5, 2)\n",
    "y = multiply(x, 3)\n",
    "print(y)"
   ]
  },
  {
   "cell_type": "markdown",
   "metadata": {},
   "source": [
    "## 7️⃣ 실전 예제: 숫자 게임 함수"
   ]
  },
  {
   "cell_type": "code",
   "execution_count": null,
   "metadata": {},
   "outputs": [],
   "source": [
    "# 🎮 실습: 숫자 게임\n",
    "import random\n",
    "\n",
    "def generate_number(start, end):\n",
    "    \"\"\"랜덤 숫자 생성\"\"\"\n",
    "    return random.randint(start, end)\n",
    "\n",
    "def get_hint(secret, guess):\n",
    "    \"\"\"힌트 제공\"\"\"\n",
    "    if guess < secret:\n",
    "        return \"🔼 더 큰 수입니다!\"\n",
    "    elif guess > secret:\n",
    "        return \"🔽 더 작은 수입니다!\"\n",
    "    else:\n",
    "        return \"🎉 정답!\"\n",
    "\n",
    "def play_game():\n",
    "    \"\"\"게임 진행\"\"\"\n",
    "    print(\"🎲 숫자 맞추기 게임\")\n",
    "    print(\"=\" * 30)\n",
    "    \n",
    "    secret = generate_number(1, 100)\n",
    "    attempts = 0\n",
    "    max_attempts = 7\n",
    "    \n",
    "    while attempts < max_attempts:\n",
    "        attempts += 1\n",
    "        guess = int(input(f\"\\n시도 {attempts}/{max_attempts} - 숫자 입력 (1-100): \"))\n",
    "        \n",
    "        hint = get_hint(secret, guess)\n",
    "        print(hint)\n",
    "        \n",
    "        if guess == secret:\n",
    "            print(f\"{attempts}번 만에 성공!\")\n",
    "            return True\n",
    "    \n",
    "    print(f\"\\n😢 실패! 정답은 {secret}입니다.\")\n",
    "    return False\n",
    "\n",
    "# 게임 실행\n",
    "if play_game():\n",
    "    print(\"축하합니다! 🎆\")\n",
    "else:\n",
    "    print(\"다시 도전해보세요! 💪\")"
   ]
  },
  {
   "cell_type": "markdown",
   "metadata": {},
   "source": [
    "## 8️⃣ 내장 함수 활용"
   ]
  },
  {
   "cell_type": "code",
   "execution_count": null,
   "metadata": {},
   "outputs": [],
   "source": [
    "# 🎮 실습: 파이썬 내장 함수\n",
    "\n",
    "# 우리가 이미 사용해본 내장 함수들\n",
    "print(\"📖 내장 함수 예시\")\n",
    "print(\"-\" * 30)\n",
    "\n",
    "# 기본 내장 함수\n",
    "numbers = [3, 7, 2, 9, 1]\n",
    "\n",
    "print(f\"len(): {len(numbers)}\")      # 길이\n",
    "print(f\"sum(): {sum(numbers)}\")      # 합계\n",
    "print(f\"max(): {max(numbers)}\")      # 최대값\n",
    "print(f\"min(): {min(numbers)}\")      # 최소값\n",
    "print(f\"sorted(): {sorted(numbers)}\")  # 정렬\n",
    "\n",
    "# 타입 변환 함수\n",
    "print(f\"\\nint('100'): {int('100')}\")\n",
    "print(f\"float('3.14'): {float('3.14')}\")\n",
    "print(f\"str(42): {str(42)}\")\n",
    "print(f\"list('abc'): {list('abc')}\")\n",
    "\n",
    "# 기타 유용한 함수\n",
    "print(f\"\\nabs(-5): {abs(-5)}\")      # 절대값\n",
    "print(f\"round(3.7): {round(3.7)}\")  # 반올림\n",
    "print(f\"pow(2, 3): {pow(2, 3)}\")    # 거듭제곱"
   ]
  },
  {
   "cell_type": "markdown",
   "metadata": {},
   "source": [
    "## 9️⃣ 함수 도큐멘트 작성하기"
   ]
  },
  {
   "cell_type": "code",
   "execution_count": null,
   "metadata": {},
   "outputs": [],
   "source": [
    "# 🎮 실습: 좋은 함수 작성법\n",
    "\n",
    "def calculate_discount(price, discount_rate):\n",
    "    \"\"\"\n",
    "    할인된 가격을 계산합니다.\n",
    "    \n",
    "    Parameters:\n",
    "        price (float): 원래 가격\n",
    "        discount_rate (float): 할인율 (0~100)\n",
    "    \n",
    "    Returns:\n",
    "        float: 할인된 가격\n",
    "    \n",
    "    Example:\n",
    "        >>> calculate_discount(10000, 20)\n",
    "        8000.0\n",
    "    \"\"\"\n",
    "    if discount_rate < 0 or discount_rate > 100:\n",
    "        return price  # 잘못된 할인율\n",
    "    \n",
    "    discount_amount = price * (discount_rate / 100)\n",
    "    final_price = price - discount_amount\n",
    "    return final_price\n",
    "\n",
    "# 함수 사용\n",
    "original = 50000\n",
    "sale = 30\n",
    "\n",
    "final = calculate_discount(original, sale)\n",
    "print(f\"원가: {original:,}원\")\n",
    "print(f\"할인율: {sale}%\")\n",
    "print(f\"판매가: {final:,.0f}원\")\n",
    "\n",
    "# 도움말 보기\n",
    "# help(calculate_discount)"
   ]
  },
  {
   "cell_type": "markdown",
   "metadata": {},
   "source": [
    "## 🎯 이번 챕터 정리\n",
    "\n",
    "### ✅ 배운 내용\n",
    "1. **함수** - 코드를 재사용 가능한 블록으로\n",
    "2. **def** - 함수 정의 키워드\n",
    "3. **매개변수** - 함수가 받는 입력\n",
    "4. **return** - 함수가 반환하는 값\n",
    "5. **docstring** - 함수 설명\n",
    "\n",
    "### 💡 핵심 포인트\n",
    "- 함수로 **코드 중복 제거**\n",
    "- **들여쓰기** 필수!\n",
    "- return은 함수를 **즉시 종료**\n",
    "- 여러 값은 **튜플로 반환**\n",
    "\n",
    "### ➡️ 다음 챕터에서는...\n",
    "매개변수와 반환값을 더 깊이 배워봅시다!"
   ]
  },
  {
   "cell_type": "markdown",
   "metadata": {},
   "source": [
    "## 💪 연습 문제\n",
    "\n",
    "### 문제: 계산기 함수 만들기\n",
    "사칙연산을 수행하는 함수 4개를 만들고,\n",
    "연산자를 받아 적절한 함수를 호출하는\n",
    "calculator() 함수를 만드세요."
   ]
  },
  {
   "cell_type": "code",
   "execution_count": null,
   "metadata": {},
   "outputs": [],
   "source": "# 💡 답안 예시:\n\ndef add(a, b):\n    \"\"\"두 수를 더하는 함수\"\"\"\n    return a + b\n\ndef subtract(a, b):\n    \"\"\"두 수를 빼는 함수\"\"\"\n    return a - b\n\ndef multiply(a, b):\n    \"\"\"두 수를 곱하는 함수\"\"\"\n    return a * b\n\ndef divide(a, b):\n    \"\"\"두 수를 나누는 함수\"\"\"\n    if b == 0:\n        return \"ERROR: 0으로 나눌 수 없습니다\"\n    return a / b\n\ndef calculator(num1, num2, operator):\n    \"\"\"\n    계산기 함수\n    \n    Parameters:\n        num1 (float): 첫 번째 숫자\n        num2 (float): 두 번째 숫자  \n        operator (str): 연산자 (+, -, *, /)\n    \n    Returns:\n        결과값 또는 에러 메시지\n    \"\"\"\n    if operator == '+':\n        return add(num1, num2)\n    elif operator == '-':\n        return subtract(num1, num2)\n    elif operator == '*':\n        return multiply(num1, num2)\n    elif operator == '/':\n        return divide(num1, num2)\n    else:\n        return \"ERROR: 올바르지 않은 연산자입니다\"\n\n# 테스트\nprint(\"🧮 함수형 계산기 테스트\")\nprint(\"=\" * 40)\n\ntest_cases = [\n    (10, 5, '+'),\n    (10, 5, '-'), \n    (10, 5, '*'),\n    (10, 5, '/'),\n    (10, 0, '/'),  # 0으로 나누기 테스트\n    (10, 5, '%')   # 잘못된 연산자 테스트\n]\n\nfor num1, num2, op in test_cases:\n    result = calculator(num1, num2, op)\n    print(f\"calculator({num1}, {num2}, '{op}') = {result}\")\n\n# 실제 사용 예시\nprint(\"\\n\" + \"=\"*40)\nprint(\"📊 실제 계산 예시\")\nprint(\"=\"*40)\n\n# 복잡한 계산\nresult1 = calculator(100, 25, '+')\nresult2 = calculator(result1, 5, '/')\nprint(f\"(100 + 25) / 5 = {result2}\")\n\n# 여러 연산 조합\nresults = []\nresults.append(calculator(10, 3, '+'))  # 13\nresults.append(calculator(20, 4, '*'))  # 80  \nresults.append(calculator(100, 10, '/')) # 10\nprint(f\"연산 결과들: {results}\")\nprint(f\"평균: {sum(results) / len(results):.2f}\")"
  }
 ],
 "metadata": {
  "kernelspec": {
   "display_name": "Python 3",
   "language": "python",
   "name": "python3"
  },
  "language_info": {
   "codemirror_mode": {
    "name": "ipython",
    "version": 3
   },
   "file_extension": ".py",
   "mimetype": "text/x-python",
   "name": "python",
   "nbconvert_exporter": "python",
   "pygments_lexer": "ipython3",
   "version": "3.8.0"
  }
 },
 "nbformat": 4,
 "nbformat_minor": 4
}